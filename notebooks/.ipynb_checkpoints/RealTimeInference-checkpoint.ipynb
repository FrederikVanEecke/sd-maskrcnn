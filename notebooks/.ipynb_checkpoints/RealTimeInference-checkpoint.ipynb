{
 "cells": [
  {
   "cell_type": "markdown",
   "metadata": {},
   "source": [
    "# setup"
   ]
  },
  {
   "cell_type": "code",
   "execution_count": 2,
   "metadata": {},
   "outputs": [],
   "source": [
    "import numpy as np \n",
    "import cv2\n",
    "import matplotlib.pyplot as plt\n",
    "from ipywidgets import fixed, interact\n",
    "import ipywidgets\n",
    "import sys \n",
    "import os \n",
    "%matplotlib inline\n",
    "\n",
    "sys.path.append('/home/frederik/Documents/GitHub/sd-maskrcnn/')\n",
    "\n",
    "from pose_estimation import detection \n",
    "from autolab_core import YamlConfig\n",
    "from pose_estimation.datasetControl import DatasetHandler\n",
    "from pose_estimation.pointclouds import MaskedPointclouds, TemplatePointclouds\n",
    "from pose_estimation.ICP import ICP\n",
    "\n",
    "from autolab_core import YamlConfig"
   ]
  },
  {
   "cell_type": "markdown",
   "metadata": {},
   "source": [
    "# inference on random image"
   ]
  },
  {
   "cell_type": "code",
   "execution_count": 4,
   "metadata": {},
   "outputs": [],
   "source": [
    "pose_config = YamlConfig(\"/home/frederik/Documents/GitHub/sd-maskrcnn/cfg/6dpose.yaml\")\n",
    "dataset_config= YamlConfig(\"/home/frederik/Documents/GitHub/sd-maskrcnn/test_dataset/dataset_generation_params.yaml\")\n",
    "\n",
    "dataset_path = \"/home/frederik/Documents/GitHub/sd-maskrcnn/test_dataset/\"\n",
    "\n",
    "depth_im_path = \"images/depth_ims/\" \n",
    "\n",
    "ds = DatasetHandler(dataset_path, depth_im_path)\n",
    "detector = detection.Detector(pose_config)"
   ]
  },
  {
   "cell_type": "code",
   "execution_count": 5,
   "metadata": {},
   "outputs": [
    {
     "name": "stdout",
     "output_type": "stream",
     "text": [
      "saved to: /home/frederik/Documents/GitHub/sd-maskrcnn/notebooks\n"
     ]
    },
    {
     "data": {
      "image/png": "[encoded data removed]",
      "text/plain": [
       "<Figure size 512.01x512.01 with 1 Axes>"
      ]
     },
     "metadata": {
      "needs_background": "light"
     },
     "output_type": "display_data"
    }
   ],
   "source": [
    "ds_image = ds.load_image()\n",
    "_=detector.detect(ds_image)\n",
    "ds_image.visualizePreditions()"
   ]
  },
  {
   "cell_type": "markdown",
   "metadata": {},
   "source": [
    "# retrieving pointclouds from masks and depth image"
   ]
  },
  {
   "cell_type": "code",
   "execution_count": 10,
   "metadata": {},
   "outputs": [],
   "source": [
    "masked_pcls = MaskedPointclouds()\n",
    "masked_pcls.feed_image(ds_image)\n",
    "\n",
    "masked_pcls.render_masked_pointclouds()"
   ]
  },
  {
   "cell_type": "code",
   "execution_count": 11,
   "metadata": {},
   "outputs": [
    {
     "name": "stdout",
     "output_type": "stream",
     "text": [
      "Downsampling:\n",
      "progress: 0/5\n",
      "PointCloud with 122880 points.\n",
      "PointCloud with 360 points.\n",
      "progress: 1/5\n",
      "PointCloud with 122880 points.\n",
      "PointCloud with 334 points.\n",
      "progress: 2/5\n",
      "PointCloud with 122880 points.\n",
      "PointCloud with 295 points.\n",
      "progress: 3/5\n",
      "PointCloud with 122880 points.\n",
      "PointCloud with 318 points.\n",
      "progress: 4/5\n",
      "PointCloud with 122880 points.\n",
      "PointCloud with 316 points.\n",
      "performing dbscan\n",
      "cluster 0/5\n",
      "point cloud has 1 clusters\n",
      "[-1 -1 -1 -1 -1  0  0  0  0  0 -1 -1  0  0  0  0  0  0  0  0 -1  0 -1 -1\n",
      " -1  0  0  0  0  0  0  0  0  0  0  0  0 -1  0  0  0  0 -1  0  0  0 -1  0\n",
      " -1  0  0  0  0  0  0  0  0  0  0  0 -1 -1 -1 -1  0  0  0 -1 -1 -1 -1  0\n",
      "  0  0  0  0  0  0  0 -1  0  0  0 -1 -1  0 -1  0 -1  0  0  0  0  0  0  0\n",
      "  0  0  0  0  0  0  0  0 -1  0  0  0  0  0  0  0  0  0  0  0  0  0  0  0\n",
      "  0  0  0  0 -1 -1  0 -1 -1  0 -1 -1 -1  0  0  0  0  0  0 -1  0  0  0  0\n",
      " -1  0 -1 -1  0  0  0  0  0  0  0 -1  0  0  0  0  0 -1 -1  0  0 -1  0 -1\n",
      "  0 -1  0  0  0 -1  0 -1  0  0  0  0  0 -1  0 -1 -1  0 -1  0  0 -1 -1  0\n",
      "  0  0 -1  0  0 -1  0  0  0 -1  0  0 -1  0 -1  0  0  0  0  0  0  0 -1  0\n",
      "  0  0  0  0  0  0  0  0  0  0  0  0  0  0 -1  0  0 -1  0  0 -1  0  0  0\n",
      "  0  0  0  0  0 -1  0 -1  0  0  0  0  0  0  0  0  0  0  0  0  0 -1  0  0\n",
      "  0  0  0 -1  0 -1  0  0 -1  0  0  0  0  0  0  0  0  0  0  0 -1  0  0 -1\n",
      "  0 -1  0  0  0  0  0  0  0  0  0  0  0 -1  0  0  0  0  0  0  0 -1 -1 -1\n",
      " -1  0  0  0 -1  0  0  0  0  0  0  0  0  0  0 -1  0 -1  0 -1 -1  0  0  0\n",
      "  0  0  0  0  0 -1  0  0  0 -1  0  0  0  0  0  0 -1  0 -1  0 -1  0  0  0]\n",
      "cluster 1/5\n",
      "point cloud has 1 clusters\n",
      "[-1 -1  0 -1 -1 -1 -1 -1 -1  0  0  0  0  0  0 -1 -1 -1  0  0 -1  0  0  0\n",
      "  0  0  0  0  0  0 -1  0 -1  0  0 -1  0  0  0  0  0  0  0  0 -1 -1  0  0\n",
      "  0  0  0  0  0  0 -1  0  0  0  0  0  0 -1 -1  0  0 -1  0  0  0  0  0  0\n",
      "  0  0  0  0 -1  0  0  0 -1  0 -1 -1  0  0  0  0 -1  0  0 -1  0  0  0  0\n",
      "  0 -1  0 -1  0  0 -1  0 -1  0  0  0  0  0  0  0 -1  0  0  0  0  0  0  0\n",
      "  0  0  0  0  0  0  0  0  0  0  0 -1 -1  0  0  0  0 -1  0  0 -1  0 -1  0\n",
      "  0  0  0  0 -1  0  0  0  0 -1  0  0 -1  0  0  0  0 -1 -1  0  0  0  0  0\n",
      "  0  0  0 -1  0  0 -1  0 -1  0 -1  0 -1  0 -1  0 -1  0  0  0 -1 -1  0  0\n",
      "  0  0  0  0  0  0  0 -1  0  0  0  0  0  0 -1  0  0  0  0  0  0 -1  0  0\n",
      "  0  0  0  0  0  0  0  0  0  0  0  0  0  0  0  0  0  0 -1  0 -1 -1  0  0\n",
      "  0  0  0 -1  0  0  0  0  0  0  0  0 -1  0  0 -1  0  0 -1  0  0  0  0  0\n",
      "  0  0  0  0  0  0  0  0  0  0  0 -1  0 -1  0  0  0  0  0 -1  0  0  0  0\n",
      "  0 -1 -1  0  0  0  0  0  0  0  0  0  0  0  0 -1  0  0  0  0  0  0  0  0\n",
      "  0  0  0  0 -1  0 -1  0  0  0  0  0  0  0  0 -1  0  0  0  0  0  0]\n",
      "cluster 2/5\n",
      "point cloud has 1 clusters\n",
      "[-1 -1 -1 -1 -1 -1 -1  0  0  0 -1 -1 -1 -1  0  0  0  0 -1  0  0  0  0  0\n",
      "  0  0  0  0 -1  0  0  0  0  0  0  0  0  0  0  0  0  0  0 -1  0  0  0  0\n",
      "  0  0 -1  0  0  0  0  0  0  0  0  0  0  0 -1  0 -1  0  0  0  0 -1  0  0\n",
      "  0 -1  0 -1  0  0  0  0 -1  0  0  0 -1  0 -1  0 -1  0  0  0  0  0  0  0\n",
      " -1  0  0  0  0  0 -1  0 -1  0  0  0  0 -1 -1  0  0  0  0  0  0 -1  0  0\n",
      "  0  0  0  0 -1 -1  0  0  0  0 -1  0  0  0  0  0 -1 -1  0 -1  0 -1  0  0\n",
      "  0  0  0 -1  0  0  0  0  0  0  0  0  0 -1  0  0  0  0 -1 -1  0 -1 -1  0\n",
      "  0  0  0  0 -1  0  0 -1  0  0 -1 -1  0  0  0  0  0 -1  0 -1  0  0  0  0\n",
      "  0  0 -1  0  0  0  0  0  0  0  0  0  0  0  0  0  0  0  0 -1  0  0  0  0\n",
      "  0  0 -1 -1  0 -1  0 -1  0 -1  0  0  0  0  0 -1  0  0 -1 -1  0  0  0  0\n",
      "  0  0  0  0  0  0 -1  0  0 -1 -1  0  0  0  0  0  0  0  0 -1  0  0  0  0\n",
      "  0 -1  0  0  0  0  0  0  0  0  0  0  0  0  0  0  0 -1  0  0  0 -1  0 -1\n",
      "  0  0  0  0  0  0  0]\n",
      "cluster 3/5\n",
      "point cloud has 1 clusters\n",
      "[-1 -1 -1 -1 -1 -1 -1 -1 -1 -1  0  0  0 -1  0  0  0  0  0  0 -1  0  0 -1\n",
      " -1  0  0  0  0  0  0  0  0 -1  0  0  0  0  0  0  0  0  0  0 -1  0  0  0\n",
      "  0  0  0  0  0  0  0  0 -1  0  0  0  0 -1  0  0  0  0 -1  0  0  0  0  0\n",
      " -1  0  0  0  0  0  0  0  0  0  0  0  0  0 -1  0  0 -1 -1  0  0  0  0 -1\n",
      "  0 -1  0  0  0  0  0  0 -1  0 -1 -1 -1  0  0  0 -1  0 -1  0  0 -1  0 -1\n",
      " -1  0  0  0  0  0  0  0  0  0 -1 -1 -1  0  0  0 -1  0  0  0  0 -1  0 -1\n",
      " -1 -1  0  0 -1  0  0  0  0  0  0  0 -1 -1  0  0  0  0  0  0  0  0 -1  0\n",
      "  0  0  0  0 -1  0  0  0  0 -1  0  0  0  0  0  0  0  0  0  0  0  0  0  0\n",
      "  0 -1  0  0  0  0  0  0 -1  0  0 -1  0  0  0  0  0  0 -1  0  0  0  0  0\n",
      "  0  0  0  0 -1  0  0 -1  0  0  0  0  0 -1  0  0  0  0  0 -1  0  0  0 -1\n",
      "  0 -1  0  0  0  0  0  0 -1  0  0  0  0  0  0  0  0  0  0  0 -1 -1  0  0\n",
      "  0  0  0  0  0  0  0 -1  0  0  0 -1 -1  0 -1  0  0  0  0  0  0 -1  0  0\n",
      "  0  0  0  0  0  0  0  0  0  0  0  0  0  0  0  0 -1  0  0  0  0  0  0  0\n",
      "  0  0  0  0 -1  0]\n",
      "cluster 4/5\n",
      "point cloud has 1 clusters\n",
      "[-1 -1 -1 -1  0  0  0 -1  0  0  0  0  0 -1  0  0  0  0  0  0  0  0  0  0\n",
      "  0 -1 -1  0  0  0  0  0  0  0  0  0  0  0 -1  0 -1  0  0  0  0  0  0  0\n",
      "  0 -1  0 -1 -1 -1  0  0  0  0  0 -1  0 -1  0  0  0  0  0  0 -1 -1  0 -1\n",
      "  0 -1  0  0  0 -1  0  0  0 -1  0  0 -1  0 -1  0  0  0  0  0  0 -1 -1  0\n",
      "  0 -1  0  0  0  0  0  0  0  0  0  0  0 -1  0  0  0  0  0  0  0  0 -1  0\n",
      "  0  0 -1  0  0  0  0  0  0  0  0  0 -1  0  0 -1  0  0  0  0  0 -1  0  0\n",
      "  0  0  0  0  0  0  0  0 -1  0  0  0 -1  0  0  0  0 -1  0  0 -1 -1  0  0\n",
      "  0  0  0  0  0  0  0 -1  0  0  0 -1  0  0  0 -1  0  0  0  0  0  0  0 -1\n",
      "  0  0  0 -1  0  0  0  0  0  0  0  0  0  0  0  0  0  0  0  0  0  0  0  0\n",
      "  0  0  0  0 -1  0  0  0  0  0  0  0 -1  0  0  0  0  0  0 -1  0  0  0  0\n",
      "  0  0  0 -1  0  0  0  0  0  0  0 -1  0 -1  0  0  0  0  0  0 -1  0  0  0\n",
      "  0  0  0  0  0  0  0  0  0  0  0  0  0  0  0 -1  0  0  0  0  0  0  0  0\n",
      "  0  0  0  0  0  0  0  0  0  0  0  0  0  0 -1 -1  0 -1  0  0  0  0  0  0\n",
      "  0  0 -1  0]\n"
     ]
    }
   ],
   "source": [
    "(classes, pointclouds_cleaned) = masked_pcls.get_pointcloudsFor_ICP()\n",
    "masked_pcls.render_masked_pointclouds(option='cleaned')"
   ]
  }
 ],
 "metadata": {
  "kernelspec": {
   "display_name": "sd-maskrcnn",
   "language": "python",
   "name": "sd-maskrcnn"
  },
  "language_info": {
   "codemirror_mode": {
    "name": "ipython",
    "version": 3
   },
   "file_extension": ".py",
   "mimetype": "text/x-python",
   "name": "python",
   "nbconvert_exporter": "python",
   "pygments_lexer": "ipython3",
   "version": "3.7.10"
  }
 },
 "nbformat": 4,
 "nbformat_minor": 4
}
