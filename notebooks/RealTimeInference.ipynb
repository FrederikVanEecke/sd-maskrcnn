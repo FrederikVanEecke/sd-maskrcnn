{
 "cells": [
  {
   "cell_type": "markdown",
   "metadata": {
    "heading_collapsed": true
   },
   "source": [
    "# setup"
   ]
  },
  {
   "cell_type": "code",
   "execution_count": 1,
   "metadata": {
    "ExecuteTime": {
     "end_time": "2021-03-04T15:57:08.497930Z",
     "start_time": "2021-03-04T15:57:05.324019Z"
    },
    "hidden": true
   },
   "outputs": [
    {
     "name": "stdout",
     "output_type": "stream",
     "text": [
      "/home/frederik/Documents/GitHub/sd-maskrcnn/notebooks\n"
     ]
    },
    {
     "name": "stderr",
     "output_type": "stream",
     "text": [
      "/home/frederik/Documents/GitHub/sd-maskrcnn/lib/python3.7/site-packages/tensorflow/python/framework/dtypes.py:526: FutureWarning: Passing (type, 1) or '1type' as a synonym of type is deprecated; in a future version of numpy, it will be understood as (type, (1,)) / '(1,)type'.\n",
      "  _np_qint8 = np.dtype([(\"qint8\", np.int8, 1)])\n",
      "/home/frederik/Documents/GitHub/sd-maskrcnn/lib/python3.7/site-packages/tensorflow/python/framework/dtypes.py:527: FutureWarning: Passing (type, 1) or '1type' as a synonym of type is deprecated; in a future version of numpy, it will be understood as (type, (1,)) / '(1,)type'.\n",
      "  _np_quint8 = np.dtype([(\"quint8\", np.uint8, 1)])\n",
      "/home/frederik/Documents/GitHub/sd-maskrcnn/lib/python3.7/site-packages/tensorflow/python/framework/dtypes.py:528: FutureWarning: Passing (type, 1) or '1type' as a synonym of type is deprecated; in a future version of numpy, it will be understood as (type, (1,)) / '(1,)type'.\n",
      "  _np_qint16 = np.dtype([(\"qint16\", np.int16, 1)])\n",
      "/home/frederik/Documents/GitHub/sd-maskrcnn/lib/python3.7/site-packages/tensorflow/python/framework/dtypes.py:529: FutureWarning: Passing (type, 1) or '1type' as a synonym of type is deprecated; in a future version of numpy, it will be understood as (type, (1,)) / '(1,)type'.\n",
      "  _np_quint16 = np.dtype([(\"quint16\", np.uint16, 1)])\n",
      "/home/frederik/Documents/GitHub/sd-maskrcnn/lib/python3.7/site-packages/tensorflow/python/framework/dtypes.py:530: FutureWarning: Passing (type, 1) or '1type' as a synonym of type is deprecated; in a future version of numpy, it will be understood as (type, (1,)) / '(1,)type'.\n",
      "  _np_qint32 = np.dtype([(\"qint32\", np.int32, 1)])\n",
      "/home/frederik/Documents/GitHub/sd-maskrcnn/lib/python3.7/site-packages/tensorflow/python/framework/dtypes.py:535: FutureWarning: Passing (type, 1) or '1type' as a synonym of type is deprecated; in a future version of numpy, it will be understood as (type, (1,)) / '(1,)type'.\n",
      "  np_resource = np.dtype([(\"resource\", np.ubyte, 1)])\n",
      "Using TensorFlow backend.\n",
      "WARNING:root:Failed to import geometry msgs in rigid_transformations.py.\n",
      "WARNING:root:Failed to import ros dependencies in rigid_transforms.py\n",
      "WARNING:root:autolab_core not installed as catkin package, RigidTransform ros methods will be unavailable\n",
      "WARNING:root:Unable to import pylibfreenect2. Python-only Kinect driver may not work properly.\n",
      "WARNING:root:Failed to import ROS in Kinect2_sensor.py. Kinect will not be able to be used in bridged mode\n",
      "WARNING:root:Unable to import Primsense sensor modules! Likely due to missing OpenNI2.\n",
      "WARNING:root:Unable to import pyrealsense2.\n",
      "WARNING:root:Failed to import ROS in ensenso_sensor.py. ROS functionality not available\n",
      "WARNING:root:Failed to import ROS in phoxi_sensor.py. PhoXiSensor functionality unavailable.\n",
      "WARNING:root:Unable to import generic sensor modules!.\n",
      "WARNING:root:Unable to import weight sensor modules!\n"
     ]
    }
   ],
   "source": [
    "import numpy as np \n",
    "import cv2\n",
    "import matplotlib.pyplot as plt\n",
    "from ipywidgets import fixed, interact\n",
    "import ipywidgets\n",
    "import sys \n",
    "import os \n",
    "%matplotlib inline\n",
    "\n",
    "sys.path.append('/home/frederik/Documents/GitHub/sd-maskrcnn/')\n",
    "\n",
    "from pose_estimation import detection \n",
    "from autolab_core import YamlConfig\n",
    "from pose_estimation.datasetControl import DatasetHandler\n",
    "from pose_estimation.pointclouds import MaskedPointclouds, TemplatePointclouds\n",
    "from pose_estimation.ICP import ICP\n",
    "\n",
    "from autolab_core import YamlConfig"
   ]
  },
  {
   "cell_type": "markdown",
   "metadata": {},
   "source": [
    "# inference on random image"
   ]
  },
  {
   "cell_type": "code",
   "execution_count": null,
   "metadata": {},
   "outputs": [],
   "source": [
    "pose_config = YamlConfig(\"/home/frederik/Documents/GitHub/sd-maskrcnn/cfg/6dpose.yaml\")\n",
    "dataset_config= YamlConfig(\"/home/frederik/Documents/GitHub/sd-maskrcnn/test_dataset/dataset_generation_params.yaml\")\n",
    "dataset_path = \"/home/frederik/Documents/GitHub/sd-maskrcnn/test_dataset/\"\n",
    "depth_im_path = \"images/depth_ims/\" \n",
    "\n",
    "ds = DatasetHandler(dataset_path, depth_im_path)\n",
    "detector = detection.Detector(pose_config)"
   ]
  },
  {
   "cell_type": "code",
   "execution_count": null,
   "metadata": {},
   "outputs": [],
   "source": [
    "ds_image = ds.load_image()\n",
    "_=detector.detect(ds_image)\n",
    "ds_image.visualizePreditions()"
   ]
  },
  {
   "cell_type": "markdown",
   "metadata": {},
   "source": [
    "# retrieving pointclouds from masks and depth image"
   ]
  },
  {
   "cell_type": "code",
   "execution_count": null,
   "metadata": {},
   "outputs": [],
   "source": [
    "masked_pcls = MaskedPointclouds()\n",
    "masked_pcls.feed_image(ds_image)\n",
    "\n",
    "masked_pcls.render_masked_pointclouds()"
   ]
  },
  {
   "cell_type": "code",
   "execution_count": null,
   "metadata": {},
   "outputs": [],
   "source": [
    "(classes, pointclouds_cleaned) = masked_pcls.get_pointcloudsFor_ICP()\n",
    "masked_pcls.render_masked_pointclouds(option='cleaned')"
   ]
  }
 ],
 "metadata": {
  "kernelspec": {
   "display_name": "sd-maskrcnn",
   "language": "python",
   "name": "sd-maskrcnn"
  },
  "language_info": {
   "codemirror_mode": {
    "name": "ipython",
    "version": 3
   },
   "file_extension": ".py",
   "mimetype": "text/x-python",
   "name": "python",
   "nbconvert_exporter": "python",
   "pygments_lexer": "ipython3",
   "version": "3.7.10"
  },
  "toc": {
   "base_numbering": 1,
   "nav_menu": {},
   "number_sections": true,
   "sideBar": true,
   "skip_h1_title": false,
   "title_cell": "Table of Contents",
   "title_sidebar": "Contents",
   "toc_cell": false,
   "toc_position": {},
   "toc_section_display": true,
   "toc_window_display": false
  },
  "varInspector": {
   "cols": {
    "lenName": 16,
    "lenType": 16,
    "lenVar": 40
   },
   "kernels_config": {
    "python": {
     "delete_cmd_postfix": "",
     "delete_cmd_prefix": "del ",
     "library": "var_list.py",
     "varRefreshCmd": "print(var_dic_list())"
    },
    "r": {
     "delete_cmd_postfix": ") ",
     "delete_cmd_prefix": "rm(",
     "library": "var_list.r",
     "varRefreshCmd": "cat(var_dic_list()) "
    }
   },
   "types_to_exclude": [
    "module",
    "function",
    "builtin_function_or_method",
    "instance",
    "_Feature"
   ],
   "window_display": false
  }
 },
 "nbformat": 4,
 "nbformat_minor": 4
}
