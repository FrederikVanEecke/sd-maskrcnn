{
 "cells": [
  {
   "cell_type": "markdown",
   "metadata": {
    "id": "Qal_Qo0eF61A",
    "slideshow": {
     "slide_type": "slide"
    }
   },
   "source": [
    "<font size=\"+3\">6d pose estimation using sd-maskrcnn</font> "
   ]
  },
  {
   "cell_type": "markdown",
   "metadata": {
    "slideshow": {
     "slide_type": "subslide"
    }
   },
   "source": [
    "<font size =+1> Abstract </font> <br>\n",
    "We present a method for 6d pose estimation of objects within a bin-picking scenario. The sd-maskrcnn framework is used to locate objects from a depth image of the bin and its contents, this network is trained using only synthetic data. The network provides us with a pixel-wise segmentation of the depth image. Using the obtained segmentation masks, original depth image and camera properites we are able to reconstruct the original 6d pose."
   ]
  },
  {
   "cell_type": "markdown",
   "metadata": {},
   "source": [
    "# setup"
   ]
  },
  {
   "cell_type": "code",
   "execution_count": 2,
   "metadata": {
    "ExecuteTime": {
     "end_time": "2021-03-10T13:42:26.744519Z",
     "start_time": "2021-03-10T13:42:26.694789Z"
    }
   },
   "outputs": [],
   "source": [
    "import numpy as np \n",
    "import cv2\n",
    "import matplotlib.pyplot as plt\n",
    "from ipywidgets import fixed, interact\n",
    "import ipywidgets\n",
    "import sys\n",
    "%matplotlib inline\n",
    "\n",
    "sys.path.append('/home/frederik/Documents/GitHub/sd-maskrcnn/')\n",
    "\n",
    "from pose_estimation import detection \n",
    "from autolab_core import YamlConfig\n",
    "from pose_estimation.datasetControl import DatasetHandler\n",
    "from pose_estimation.pointclouds import MaskedPointclouds, TemplatePointclouds\n",
    "from pose_estimation.ICP import ICP\n",
    "\n",
    "from autolab_core import YamlConfig\n",
    "\n",
    "\n",
    "def show_dataset(data_set_dir, image_nbr): \n",
    "    \"\"\"\n",
    "        show a data set\n",
    "        we show: rgb , depth, masks. \n",
    "    \"\"\"\n",
    "    rgb_path = 'images/color_ims/'\n",
    "    depth_path = 'images/depth_ims/'\n",
    "    masks_path = 'images/semantic_masks/'\n",
    "    \n",
    "    image_file = 'image_{:06d}.png'.format(image_nbr)\n",
    "        \n",
    "    rgb_im = cv2.imread(data_set_dir + rgb_path + image_file)\n",
    "    depth_im = cv2.imread(data_set_dir + depth_path + image_file)\n",
    "    mask_im = cv2.imread(data_set_dir + masks_path + image_file)\n",
    "    \n",
    "    plt.figure(figsize=(32,16))\n",
    "    plt.subplot(1,3,1)\n",
    "    plt.axis('off')\n",
    "    plt.imshow(rgb_im)\n",
    "    plt.title('RGB image')\n",
    "    plt.subplot(1,3,2)\n",
    "    plt.axis('off')\n",
    "    plt.imshow(depth_im)\n",
    "    plt.title('Depth image')\n",
    "    plt.subplot(1,3,3)\n",
    "    plt.axis('off')\n",
    "    plt.imshow(mask_im)\n",
    "    plt.title('Mask')\n",
    "    \n",
    "    \n",
    "def show_results(depth_dir, pred_dir, indices_dir, image_nbr):\n",
    "    #open indices_dir \n",
    "    test_idx = np.load(indices_dir)\n",
    "    pred_idx = test_idx[image_nbr]\n",
    "\n",
    "    depth_im = 'image_{:06d}.png'.format(pred_idx)\n",
    "    pred_im =  'vis_{:06d}.png'.format(image_nbr)\n",
    "    gt_im = 'gt_vis_{:06d}.png'.format(image_nbr)\n",
    "\n",
    "    depth = cv2.imread(depth_dir+depth_im)\n",
    "    pred = cv2.imread(pred_dir + 'vis/'+ pred_im)\n",
    "    gt = cv2.imread(pred_dir + 'gt_vis/' + gt_im)\n",
    "        \n",
    "    plt.figure(figsize=(50,25))\n",
    "    plt.subplot(1,3,1)\n",
    "    plt.axis('off')\n",
    "    plt.imshow(depth)\n",
    "    plt.title('Input')\n",
    "    plt.subplot(1,3,2)\n",
    "    plt.axis('off')\n",
    "    plt.imshow(pred)\n",
    "    plt.title('Prediction')\n",
    "    plt.subplot(1,3,3)\n",
    "    plt.axis('off')\n",
    "    plt.imshow(gt)\n",
    "    plt.title('Ground Truth')\n",
    "    "
   ]
  },
  {
   "cell_type": "code",
   "execution_count": null,
   "metadata": {
    "colab": {
     "base_uri": "https://localhost:8080/"
    },
    "executionInfo": {
     "elapsed": 658,
     "status": "ok",
     "timestamp": 1614255871762,
     "user": {
      "displayName": "Frederik Van Eecke",
      "photoUrl": "",
      "userId": "03684240960318574218"
     },
     "user_tz": -60
    },
    "id": "UHuCuzIogksc",
    "outputId": "e299f254-5315-4422-91d9-d250e2bcbc83",
    "slideshow": {
     "slide_type": "skip"
    }
   },
   "outputs": [],
   "source": []
  },
  {
   "cell_type": "markdown",
   "metadata": {
    "ExecuteTime": {
     "end_time": "2021-03-04T15:13:32.956824Z",
     "start_time": "2021-03-04T15:13:32.954219Z"
    }
   },
   "source": [
    "# synthetic data generation "
   ]
  },
  {
   "cell_type": "markdown",
   "metadata": {},
   "source": [
    "Include discription on how synthetic data is obtained\n",
    "\n",
    "show top cam data \n",
    "\n",
    "show real cam data"
   ]
  },
  {
   "cell_type": "markdown",
   "metadata": {},
   "source": [
    "<font size =+1> - Synthetic data obtained from top view </font>"
   ]
  },
  {
   "cell_type": "code",
   "execution_count": null,
   "metadata": {
    "ExecuteTime": {
     "end_time": "2021-03-10T12:40:24.423024Z",
     "start_time": "2021-03-10T12:40:24.111696Z"
    }
   },
   "outputs": [],
   "source": [
    "data_set_dir = '/media/frederik/Samsung_T5/Datasets/ds_topViewCamera_10k/' \n",
    "\n",
    "im_nbr = ipywidgets.IntText(min=0, max=10000, value= 0, label=\"image number:\")\n",
    "interact(show_dataset, data_set_dir=fixed(data_set_dir), image_nbr = im_nbr)"
   ]
  },
  {
   "cell_type": "markdown",
   "metadata": {},
   "source": [
    "<font size =+1>- Synthetic data obtained with real camera </font>"
   ]
  },
  {
   "cell_type": "code",
   "execution_count": null,
   "metadata": {},
   "outputs": [],
   "source": [
    "data_set_dir = '/media/frederik/Samsung_T5/Datasets/realCamera_train_30k/' \n",
    "\n",
    "im_nbr = ipywidgets.IntText(min=0, max=10000, value= 0, label=\"image number:\")\n",
    "interact(show_dataset, data_set_dir=fixed(data_set_dir), image_nbr = im_nbr)"
   ]
  },
  {
   "cell_type": "markdown",
   "metadata": {},
   "source": [
    "# training of sd-maskrcnn"
   ]
  },
  {
   "cell_type": "markdown",
   "metadata": {},
   "source": [
    "## training on topview data "
   ]
  },
  {
   "cell_type": "markdown",
   "metadata": {
    "id": "j04RM3uJCh7_",
    "slideshow": {
     "slide_type": "slide"
    }
   },
   "source": [
    "### Results using pretrained weights from paper"
   ]
  },
  {
   "cell_type": "code",
   "execution_count": null,
   "metadata": {
    "ExecuteTime": {
     "end_time": "2021-03-10T12:41:06.367395Z",
     "start_time": "2021-03-10T12:41:05.792334Z"
    },
    "colab": {
     "base_uri": "https://localhost:8080/",
     "height": 528,
     "referenced_widgets": [
      "53a3cafbfab64522bd4c85d50cd6a01c",
      "696f0a9d5045437288453d5de7428114",
      "5987a7cdbcd64b688bed9cee7bd766fe",
      "82a8fb0de178444aaf96a1926eb2536a",
      "96c5f2fbea0a41ddb936f6099ee788bf",
      "d98b070cf99e40c3bdb6bb6efa81f263",
      "08120d6cb7234e28b7c3b9756e6d0cf3"
     ]
    },
    "executionInfo": {
     "elapsed": 1063,
     "status": "ok",
     "timestamp": 1614255874700,
     "user": {
      "displayName": "Frederik Van Eecke",
      "photoUrl": "",
      "userId": "03684240960318574218"
     },
     "user_tz": -60
    },
    "id": "i77in_UNg7hK",
    "outputId": "ec9d2d1e-b38f-427c-90ee-30ee35708035",
    "slideshow": {
     "slide_type": "slide"
    }
   },
   "outputs": [],
   "source": [
    "depth_dir = \"/media/frederik/Samsung_T5/Datasets/topViewCamera_train_10k/depth_ims/\"\n",
    "pred_dir = \"/media/frederik/Samsung_T5/Datasets/benchmarks/benchmark_pretrained/\"\n",
    "indices_dir = \"/media/frederik/Samsung_T5/Datasets/topViewCamera_train_10k/test_indices.npy\"\n",
    "# 107/118/124/126/188/258\n",
    "im_nbr = ipywidgets.IntText(min=0, max=10000, value= 107, label=\"number:\")\n",
    "interact(show_results,\n",
    "         depth_dir=fixed(depth_dir),\n",
    "         pred_dir = fixed(pred_dir), \n",
    "         indices_dir = fixed(indices_dir), \n",
    "         image_nbr = im_nbr)\n"
   ]
  },
  {
   "cell_type": "markdown",
   "metadata": {
    "id": "6GMLRPtBCqCW",
    "slideshow": {
     "slide_type": "slide"
    }
   },
   "source": [
    "### training on 30k images for 2 epochs"
   ]
  },
  {
   "cell_type": "code",
   "execution_count": null,
   "metadata": {
    "ExecuteTime": {
     "end_time": "2021-03-10T12:40:35.674140Z",
     "start_time": "2021-03-10T12:40:35.135146Z"
    },
    "colab": {
     "base_uri": "https://localhost:8080/",
     "height": 528,
     "referenced_widgets": [
      "8543f2e3a70c48bdaf9a1d767ce93124",
      "8c30b16ad04544f18c4d4f81aa8e7649",
      "296485069a9b4784b911267ece5edbe6",
      "0a545333da2d419889badbbf1bbe50ff",
      "00cb6d8b2f884d9b93e2e9fbc3273021",
      "eaf1df520d31448096bcb39490a361af",
      "4827d31134534d0290953b975c38e355"
     ]
    },
    "executionInfo": {
     "elapsed": 1305,
     "status": "ok",
     "timestamp": 1614255881390,
     "user": {
      "displayName": "Frederik Van Eecke",
      "photoUrl": "",
      "userId": "03684240960318574218"
     },
     "user_tz": -60
    },
    "id": "zCq_pHe2g7jU",
    "outputId": "2f25646d-db03-4872-c18c-8f2fac32ace7",
    "slideshow": {
     "slide_type": "slide"
    }
   },
   "outputs": [],
   "source": [
    "depth_dir = \"/media/frederik/Samsung_T5/Datasets/topViewCamera_train_10k/depth_ims/\"\n",
    "pred_dir = \"/media/frederik/Samsung_T5/Datasets/benchmarks/benchmark_results_zelf_30k/\"\n",
    "indices_dir = \"/media/frederik/Samsung_T5/Datasets/topViewCamera_train_10k/test_indices.npy\"\n",
    "\n",
    "im_nbr = ipywidgets.IntText(min=0, max=10000, value= 107, label=\"number:\")\n",
    "\n",
    "interact(show_results,\n",
    "         depth_dir=fixed(depth_dir),\n",
    "         pred_dir = fixed(pred_dir), \n",
    "         indices_dir = fixed(indices_dir), \n",
    "         image_nbr = im_nbr)"
   ]
  },
  {
   "cell_type": "markdown",
   "metadata": {
    "id": "GHnT1CObc8hJ",
    "slideshow": {
     "slide_type": "slide"
    }
   },
   "source": [
    "### finetuning pretrained weights on 30k images (decreased learning rate)"
   ]
  },
  {
   "cell_type": "code",
   "execution_count": null,
   "metadata": {
    "ExecuteTime": {
     "end_time": "2021-03-10T12:29:09.874039Z",
     "start_time": "2021-03-10T12:29:09.505701Z"
    },
    "colab": {
     "base_uri": "https://localhost:8080/",
     "height": 528,
     "referenced_widgets": [
      "54c17b8395e24eb8b48e92c8ed7a9bb8",
      "e80dde04bff244ec9773199c8aa2a178",
      "1ea1bf50acd4471abc91cffaf1431573",
      "c864482bac3f49b988174297f8a2dbcb",
      "bbfa22cefc1b40f69126f69a0ce48eae",
      "a590d3aeacfe4e83a92b6063c0823c02",
      "1522b04fa0754a8fac2c50aa7954d93a"
     ]
    },
    "executionInfo": {
     "elapsed": 1091,
     "status": "ok",
     "timestamp": 1614255884745,
     "user": {
      "displayName": "Frederik Van Eecke",
      "photoUrl": "",
      "userId": "03684240960318574218"
     },
     "user_tz": -60
    },
    "id": "0ghghCU2g7mC",
    "outputId": "2ef2d24a-a37e-4e2e-b70f-4941382b7c42",
    "slideshow": {
     "slide_type": "slide"
    }
   },
   "outputs": [],
   "source": [
    "depth_dir = \"/media/frederik/Samsung_T5/Datasets/topViewCamera_train_10k/depth_ims/\"\n",
    "pred_dir = \"/media/frederik/Samsung_T5/Datasets/benchmarks/benchmark_finetuned_on30k/\" \n",
    "indices_dir = \"/media/frederik/Samsung_T5/Datasets/topViewCamera_train_10k/test_indices.npy\"\n",
    "\n",
    "im_nbr = ipywidgets.IntText(min=0, max=10000, value= 107, label=\"number:\")\n",
    "\n",
    "interact(show_results,\n",
    "         depth_dir=fixed(depth_dir),\n",
    "         pred_dir = fixed(pred_dir), \n",
    "         indices_dir = fixed(indices_dir), \n",
    "         image_nbr = im_nbr)"
   ]
  },
  {
   "cell_type": "markdown",
   "metadata": {},
   "source": [
    "## training on true data"
   ]
  },
  {
   "cell_type": "markdown",
   "metadata": {
    "cell_style": "center",
    "id": "1ohMuCHWFCWT"
   },
   "source": [
    "### 20 epochs with resnet35 backbone"
   ]
  },
  {
   "cell_type": "code",
   "execution_count": null,
   "metadata": {
    "ExecuteTime": {
     "end_time": "2021-03-10T12:47:04.345206Z",
     "start_time": "2021-03-10T12:47:03.650193Z"
    }
   },
   "outputs": [],
   "source": [
    "depth_dir = \"/media/frederik/Samsung_T5/Datasets/realCamera_train_30k/depth_ims/\"\n",
    "pred_dir = \"/media/frederik/Samsung_T5/Datasets/benchmarks/benchmark_results_realCam_30k/\" \n",
    "indices_dir = \"/media/frederik/Samsung_T5/Datasets/realCamera_train_30k/test_indices.npy\"\n",
    "\n",
    "im_nbr = ipywidgets.IntText(min=0, max=10000, value= 107, label=\"number:\")\n",
    "\n",
    "interact(show_results,\n",
    "         depth_dir=fixed(depth_dir),\n",
    "         pred_dir = fixed(pred_dir), \n",
    "         indices_dir = fixed(indices_dir), \n",
    "         image_nbr = im_nbr)\n",
    "\n"
   ]
  },
  {
   "cell_type": "markdown",
   "metadata": {},
   "source": [
    "### 20 epochs with resnet101 backbone"
   ]
  },
  {
   "cell_type": "markdown",
   "metadata": {
    "colab": {
     "base_uri": "https://localhost:8080/",
     "height": 359,
     "referenced_widgets": [
      "f7eaa373e4f04c1f8598a4e6aa86f52b",
      "a0ae7e74f6274eaaabb5eb2a52f3f9e2",
      "1920c1b6e32b4fe7858cea40668cc732",
      "fa1ba1c1952b4ac9890cd8813414f8b3",
      "4f62ca2fc1a5492e97b4f63c494816f0",
      "1ab67a6eb375454396da6b9478ddb2c8",
      "a58571a0c57d4f52b8d4e9ac4a96978a"
     ]
    },
    "executionInfo": {
     "elapsed": 78131,
     "status": "ok",
     "timestamp": 1614254866778,
     "user": {
      "displayName": "Frederik Van Eecke",
      "photoUrl": "",
      "userId": "03684240960318574218"
     },
     "user_tz": -60
    },
    "id": "ycC9LBt8FKcz",
    "outputId": "78585105-391d-4e6f-84a9-252b5033c8b9"
   },
   "source": [
    "# 6d pose estimation "
   ]
  },
  {
   "cell_type": "markdown",
   "metadata": {},
   "source": [
    "goal description "
   ]
  },
  {
   "cell_type": "markdown",
   "metadata": {},
   "source": [
    "## using masks to get instance-pointclouds"
   ]
  },
  {
   "cell_type": "code",
   "execution_count": 4,
   "metadata": {
    "ExecuteTime": {
     "end_time": "2021-03-10T13:42:41.085374Z",
     "start_time": "2021-03-10T13:42:37.391907Z"
    }
   },
   "outputs": [],
   "source": [
    "pose_config = YamlConfig(\"/home/frederik/Documents/GitHub/sd-maskrcnn/cfg/6dpose.yaml\")\n",
    "dataset_config= YamlConfig(\"/home/frederik/Documents/GitHub/sd-maskrcnn/test_dataset_best/dataset_generation_params.yaml\")\n",
    "dataset_path = \"/home/frederik/Documents/GitHub/sd-maskrcnn/test_dataset_best/\"\n",
    "depth_im_path = \"images/depth_ims/\" \n",
    "\n",
    "ds = DatasetHandler(dataset_path, depth_im_path)\n",
    "detector = detection.Detector(pose_config)\n",
    "icp = ICP(pose_config, dataset_config)"
   ]
  },
  {
   "cell_type": "markdown",
   "metadata": {},
   "source": [
    "<font size =+1> Real time segmentation using sd-maskrcnn. Masks are added onto the depth image. </font>"
   ]
  },
  {
   "cell_type": "code",
   "execution_count": 5,
   "metadata": {
    "ExecuteTime": {
     "end_time": "2021-03-10T13:42:50.228056Z",
     "start_time": "2021-03-10T13:42:43.210113Z"
    },
    "scrolled": false
   },
   "outputs": [
    {
     "name": "stdout",
     "output_type": "stream",
     "text": [
      "saved to: /home/frederik/Documents/GitHub/sd-maskrcnn/notebooks\n"
     ]
    },
    {
     "data": {
      "image/png": "[encoded data removed]",
      "text/plain": [
       "<Figure size 512.01x512.01 with 1 Axes>"
      ]
     },
     "metadata": {
      "needs_background": "light"
     },
     "output_type": "display_data"
    }
   ],
   "source": [
    "ds_image = ds.load_image()\n",
    "_=detector.detect(ds_image)\n",
    "ds_image.visualizePreditions()"
   ]
  },
  {
   "cell_type": "markdown",
   "metadata": {},
   "source": [
    "<font size =+1> Specific parts from the depth image can be deprojected from the image plane, yielding a 3d pointcloud. Using the segmentation masks we are able to retrieve observed 3d pointclouds of the (detected) objects within the bin. </font>"
   ]
  },
  {
   "cell_type": "code",
   "execution_count": 6,
   "metadata": {
    "ExecuteTime": {
     "end_time": "2021-03-10T13:42:58.077440Z",
     "start_time": "2021-03-10T13:42:53.908374Z"
    }
   },
   "outputs": [
    {
     "name": "stdout",
     "output_type": "stream",
     "text": [
      "/home/frederik/Documents/GitHub/sd-maskrcnn/notebooks/../datasets/oneCube/urdf/cache/ycb~cubei7/ycb~cubei7.urdf\n",
      "Downsampling:\n",
      "progress: 0/10\n",
      "progress: 1/10\n",
      "progress: 2/10\n",
      "progress: 3/10\n",
      "progress: 4/10\n",
      "progress: 5/10\n",
      "progress: 6/10\n",
      "progress: 7/10\n",
      "progress: 8/10\n",
      "progress: 9/10\n",
      "performing dbscan\n",
      "cluster 0/10\n",
      "point cloud has 1 clusters\n",
      "cluster 1/10\n",
      "point cloud has 1 clusters\n",
      "cluster 2/10\n",
      "point cloud has 1 clusters\n",
      "cluster 3/10\n",
      "point cloud has 1 clusters\n",
      "cluster 4/10\n",
      "point cloud has 1 clusters\n",
      "cluster 5/10\n",
      "point cloud has 1 clusters\n",
      "cluster 6/10\n",
      "point cloud has 1 clusters\n",
      "cluster 7/10\n",
      "point cloud has 1 clusters\n",
      "cluster 8/10\n",
      "point cloud has 1 clusters\n",
      "cluster 9/10\n",
      "point cloud has 1 clusters\n"
     ]
    }
   ],
   "source": [
    "masked_pcls = MaskedPointclouds()\n",
    "masked_pcls.feed_image(ds_image)\n",
    "icp.feed_image(ds_image)\n",
    "\n",
    "masked_pcls.render_masked_pointclouds()"
   ]
  },
  {
   "cell_type": "markdown",
   "metadata": {},
   "source": [
    "<font size =+1> Noise presented within the obtained pointclouds due to imperfect masks is filtered away using dbscan clustering </font>"
   ]
  },
  {
   "cell_type": "code",
   "execution_count": 7,
   "metadata": {
    "ExecuteTime": {
     "end_time": "2021-03-10T13:43:02.368397Z",
     "start_time": "2021-03-10T13:43:00.045200Z"
    }
   },
   "outputs": [
    {
     "name": "stdout",
     "output_type": "stream",
     "text": [
      "Downsampling:\n",
      "progress: 0/10\n",
      "progress: 1/10\n",
      "progress: 2/10\n",
      "progress: 3/10\n",
      "progress: 4/10\n",
      "progress: 5/10\n",
      "progress: 6/10\n",
      "progress: 7/10\n",
      "progress: 8/10\n",
      "progress: 9/10\n",
      "performing dbscan\n",
      "cluster 0/10\n",
      "point cloud has 1 clusters\n",
      "cluster 1/10\n",
      "point cloud has 1 clusters\n",
      "cluster 2/10\n",
      "point cloud has 1 clusters\n",
      "cluster 3/10\n",
      "point cloud has 1 clusters\n",
      "cluster 4/10\n",
      "point cloud has 1 clusters\n",
      "cluster 5/10\n",
      "point cloud has 1 clusters\n",
      "cluster 6/10\n",
      "point cloud has 1 clusters\n",
      "cluster 7/10\n",
      "point cloud has 1 clusters\n",
      "cluster 8/10\n",
      "point cloud has 1 clusters\n",
      "cluster 9/10\n",
      "point cloud has 1 clusters\n"
     ]
    }
   ],
   "source": [
    "(classes, pointclouds_cleaned) = masked_pcls.get_pointcloudsFor_ICP()\n",
    "masked_pcls.render_masked_pointclouds(option='cleaned')"
   ]
  },
  {
   "cell_type": "markdown",
   "metadata": {},
   "source": [
    "## Construct templates for recognized objects "
   ]
  },
  {
   "cell_type": "markdown",
   "metadata": {},
   "source": [
    "<font size=+1><p><u>Templates</u></p></font>\n",
    "<br>\n",
    "<font size =+0.5\n",
    "    We've obtained pointclouds of each instance recognized within the bin. In order to derive the 6d pose of this object we need to fit template pointclouds to them, of which we know the 6d pose initially and can track the transformation made upon them.\n",
    "</font>\n",
    "<br>\n",
    "<br>\n",
    "<font size=+1><p><u>Template contruction</u></p></font>\n",
    "<font size=+0.5>\n",
    "    We construct multiple templates for each object class recognized within the bin. For this we render multiple scenes with the object randomly located within it, from which we take a picture using the same camera as was used to make the bin picture. We can again construct the corresponding 3d pointclouds, for which we know the 6d pose.\n",
    "</font>"
   ]
  },
  {
   "cell_type": "code",
   "execution_count": 18,
   "metadata": {
    "ExecuteTime": {
     "end_time": "2021-03-10T13:45:27.428881Z",
     "start_time": "2021-03-10T13:45:25.773136Z"
    }
   },
   "outputs": [],
   "source": [
    "icp.show_templates(class_id=1, option='r')"
   ]
  },
  {
   "cell_type": "code",
   "execution_count": 19,
   "metadata": {
    "ExecuteTime": {
     "end_time": "2021-03-10T13:47:05.264725Z",
     "start_time": "2021-03-10T13:45:28.898458Z"
    }
   },
   "outputs": [
    {
     "name": "stdout",
     "output_type": "stream",
     "text": [
      "performing ICP on pointcloud 0/10\n",
      "fitting 13 templates\n",
      "performing ICP on pointcloud 1/10\n",
      "fitting 13 templates\n",
      "performing ICP on pointcloud 2/10\n",
      "fitting 13 templates\n",
      "performing ICP on pointcloud 3/10\n",
      "fitting 13 templates\n",
      "performing ICP on pointcloud 4/10\n",
      "fitting 13 templates\n",
      "performing ICP on pointcloud 5/10\n",
      "fitting 13 templates\n",
      "performing ICP on pointcloud 6/10\n",
      "fitting 13 templates\n",
      "performing ICP on pointcloud 7/10\n",
      "fitting 13 templates\n",
      "performing ICP on pointcloud 8/10\n",
      "fitting 13 templates\n",
      "performing ICP on pointcloud 9/10\n",
      "fitting 13 templates\n"
     ]
    }
   ],
   "source": [
    "icp.perform_ICP(threshold=1)"
   ]
  },
  {
   "cell_type": "code",
   "execution_count": 20,
   "metadata": {
    "ExecuteTime": {
     "end_time": "2021-03-10T13:53:24.288780Z",
     "start_time": "2021-03-10T13:48:55.772314Z"
    }
   },
   "outputs": [],
   "source": [
    "icp.render_results()"
   ]
  },
  {
   "cell_type": "code",
   "execution_count": 21,
   "metadata": {
    "ExecuteTime": {
     "end_time": "2021-03-10T13:54:03.427509Z",
     "start_time": "2021-03-10T13:53:26.834363Z"
    }
   },
   "outputs": [],
   "source": [
    "icp.render_results(option='rmseBased')"
   ]
  }
 ],
 "metadata": {
  "colab": {
   "authorship_tag": "ABX9TyMqwD3JIsRw8CJN6fPxVjUs",
   "collapsed_sections": [],
   "name": "visualize_inference.ipynb",
   "provenance": [],
   "toc_visible": true
  },
  "kernelspec": {
   "display_name": "sd-maskrcnn",
   "language": "python",
   "name": "sd-maskrcnn"
  },
  "language_info": {
   "codemirror_mode": {
    "name": "ipython",
    "version": 3
   },
   "file_extension": ".py",
   "mimetype": "text/x-python",
   "name": "python",
   "nbconvert_exporter": "python",
   "pygments_lexer": "ipython3",
   "version": "3.7.10"
  },
  "toc": {
   "base_numbering": 1,
   "nav_menu": {},
   "number_sections": true,
   "sideBar": true,
   "skip_h1_title": false,
   "title_cell": "Table of Contents",
   "title_sidebar": "Contents",
   "toc_cell": false,
   "toc_position": {},
   "toc_section_display": true,
   "toc_window_display": true
  },
  "varInspector": {
   "cols": {
    "lenName": 16,
    "lenType": 16,
    "lenVar": 40
   },
   "kernels_config": {
    "python": {
     "delete_cmd_postfix": "",
     "delete_cmd_prefix": "del ",
     "library": "var_list.py",
     "varRefreshCmd": "print(var_dic_list())"
    },
    "r": {
     "delete_cmd_postfix": ") ",
     "delete_cmd_prefix": "rm(",
     "library": "var_list.r",
     "varRefreshCmd": "cat(var_dic_list()) "
    }
   },
   "types_to_exclude": [
    "module",
    "function",
    "builtin_function_or_method",
    "instance",
    "_Feature"
   ],
   "window_display": false
  },
  "widgets": {
   "application/vnd.jupyter.widget-state+json": {
    "00cb6d8b2f884d9b93e2e9fbc3273021": {
     "model_module": "@jupyter-widgets/controls",
     "model_name": "DescriptionStyleModel",
     "state": {
      "_model_module": "@jupyter-widgets/controls",
      "_model_module_version": "1.5.0",
      "_model_name": "DescriptionStyleModel",
      "_view_count": null,
      "_view_module": "@jupyter-widgets/base",
      "_view_module_version": "1.2.0",
      "_view_name": "StyleView",
      "description_width": ""
     }
    },
    "08120d6cb7234e28b7c3b9756e6d0cf3": {
     "model_module": "@jupyter-widgets/base",
     "model_name": "LayoutModel",
     "state": {
      "_model_module": "@jupyter-widgets/base",
      "_model_module_version": "1.2.0",
      "_model_name": "LayoutModel",
      "_view_count": null,
      "_view_module": "@jupyter-widgets/base",
      "_view_module_version": "1.2.0",
      "_view_name": "LayoutView",
      "align_content": null,
      "align_items": null,
      "align_self": null,
      "border": null,
      "bottom": null,
      "display": null,
      "flex": null,
      "flex_flow": null,
      "grid_area": null,
      "grid_auto_columns": null,
      "grid_auto_flow": null,
      "grid_auto_rows": null,
      "grid_column": null,
      "grid_gap": null,
      "grid_row": null,
      "grid_template_areas": null,
      "grid_template_columns": null,
      "grid_template_rows": null,
      "height": null,
      "justify_content": null,
      "justify_items": null,
      "left": null,
      "margin": null,
      "max_height": null,
      "max_width": null,
      "min_height": null,
      "min_width": null,
      "object_fit": null,
      "object_position": null,
      "order": null,
      "overflow": null,
      "overflow_x": null,
      "overflow_y": null,
      "padding": null,
      "right": null,
      "top": null,
      "visibility": null,
      "width": null
     }
    },
    "0a545333da2d419889badbbf1bbe50ff": {
     "model_module": "@jupyter-widgets/output",
     "model_name": "OutputModel",
     "state": {
      "_dom_classes": [],
      "_model_module": "@jupyter-widgets/output",
      "_model_module_version": "1.0.0",
      "_model_name": "OutputModel",
      "_view_count": null,
      "_view_module": "@jupyter-widgets/output",
      "_view_module_version": "1.0.0",
      "_view_name": "OutputView",
      "layout": "IPY_MODEL_4827d31134534d0290953b975c38e355",
      "msg_id": "",
      "outputs": [
       {
        "image/png": "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\n",
        "metadata": {
         "needs_background": "light",
         "tags": []
        },
        "output_type": "display_data",
        "text/plain": "<Figure size 2304x1152 with 3 Axes>"
       }
      ]
     }
    },
    "1522b04fa0754a8fac2c50aa7954d93a": {
     "model_module": "@jupyter-widgets/base",
     "model_name": "LayoutModel",
     "state": {
      "_model_module": "@jupyter-widgets/base",
      "_model_module_version": "1.2.0",
      "_model_name": "LayoutModel",
      "_view_count": null,
      "_view_module": "@jupyter-widgets/base",
      "_view_module_version": "1.2.0",
      "_view_name": "LayoutView",
      "align_content": null,
      "align_items": null,
      "align_self": null,
      "border": null,
      "bottom": null,
      "display": null,
      "flex": null,
      "flex_flow": null,
      "grid_area": null,
      "grid_auto_columns": null,
      "grid_auto_flow": null,
      "grid_auto_rows": null,
      "grid_column": null,
      "grid_gap": null,
      "grid_row": null,
      "grid_template_areas": null,
      "grid_template_columns": null,
      "grid_template_rows": null,
      "height": null,
      "justify_content": null,
      "justify_items": null,
      "left": null,
      "margin": null,
      "max_height": null,
      "max_width": null,
      "min_height": null,
      "min_width": null,
      "object_fit": null,
      "object_position": null,
      "order": null,
      "overflow": null,
      "overflow_x": null,
      "overflow_y": null,
      "padding": null,
      "right": null,
      "top": null,
      "visibility": null,
      "width": null
     }
    },
    "1920c1b6e32b4fe7858cea40668cc732": {
     "model_module": "@jupyter-widgets/controls",
     "model_name": "IntTextModel",
     "state": {
      "_dom_classes": [],
      "_model_module": "@jupyter-widgets/controls",
      "_model_module_version": "1.5.0",
      "_model_name": "IntTextModel",
      "_view_count": null,
      "_view_module": "@jupyter-widgets/controls",
      "_view_module_version": "1.5.0",
      "_view_name": "IntTextView",
      "continuous_update": false,
      "description": "image_nbr",
      "description_tooltip": null,
      "disabled": false,
      "layout": "IPY_MODEL_1ab67a6eb375454396da6b9478ddb2c8",
      "step": 1,
      "style": "IPY_MODEL_4f62ca2fc1a5492e97b4f63c494816f0",
      "value": 8
     }
    },
    "1ab67a6eb375454396da6b9478ddb2c8": {
     "model_module": "@jupyter-widgets/base",
     "model_name": "LayoutModel",
     "state": {
      "_model_module": "@jupyter-widgets/base",
      "_model_module_version": "1.2.0",
      "_model_name": "LayoutModel",
      "_view_count": null,
      "_view_module": "@jupyter-widgets/base",
      "_view_module_version": "1.2.0",
      "_view_name": "LayoutView",
      "align_content": null,
      "align_items": null,
      "align_self": null,
      "border": null,
      "bottom": null,
      "display": null,
      "flex": null,
      "flex_flow": null,
      "grid_area": null,
      "grid_auto_columns": null,
      "grid_auto_flow": null,
      "grid_auto_rows": null,
      "grid_column": null,
      "grid_gap": null,
      "grid_row": null,
      "grid_template_areas": null,
      "grid_template_columns": null,
      "grid_template_rows": null,
      "height": null,
      "justify_content": null,
      "justify_items": null,
      "left": null,
      "margin": null,
      "max_height": null,
      "max_width": null,
      "min_height": null,
      "min_width": null,
      "object_fit": null,
      "object_position": null,
      "order": null,
      "overflow": null,
      "overflow_x": null,
      "overflow_y": null,
      "padding": null,
      "right": null,
      "top": null,
      "visibility": null,
      "width": null
     }
    },
    "1ea1bf50acd4471abc91cffaf1431573": {
     "model_module": "@jupyter-widgets/controls",
     "model_name": "IntTextModel",
     "state": {
      "_dom_classes": [],
      "_model_module": "@jupyter-widgets/controls",
      "_model_module_version": "1.5.0",
      "_model_name": "IntTextModel",
      "_view_count": null,
      "_view_module": "@jupyter-widgets/controls",
      "_view_module_version": "1.5.0",
      "_view_name": "IntTextView",
      "continuous_update": false,
      "description": "image_nbr",
      "description_tooltip": null,
      "disabled": false,
      "layout": "IPY_MODEL_a590d3aeacfe4e83a92b6063c0823c02",
      "step": 1,
      "style": "IPY_MODEL_bbfa22cefc1b40f69126f69a0ce48eae",
      "value": 0
     }
    },
    "296485069a9b4784b911267ece5edbe6": {
     "model_module": "@jupyter-widgets/controls",
     "model_name": "IntTextModel",
     "state": {
      "_dom_classes": [],
      "_model_module": "@jupyter-widgets/controls",
      "_model_module_version": "1.5.0",
      "_model_name": "IntTextModel",
      "_view_count": null,
      "_view_module": "@jupyter-widgets/controls",
      "_view_module_version": "1.5.0",
      "_view_name": "IntTextView",
      "continuous_update": false,
      "description": "image_nbr",
      "description_tooltip": null,
      "disabled": false,
      "layout": "IPY_MODEL_eaf1df520d31448096bcb39490a361af",
      "step": 1,
      "style": "IPY_MODEL_00cb6d8b2f884d9b93e2e9fbc3273021",
      "value": 0
     }
    },
    "4827d31134534d0290953b975c38e355": {
     "model_module": "@jupyter-widgets/base",
     "model_name": "LayoutModel",
     "state": {
      "_model_module": "@jupyter-widgets/base",
      "_model_module_version": "1.2.0",
      "_model_name": "LayoutModel",
      "_view_count": null,
      "_view_module": "@jupyter-widgets/base",
      "_view_module_version": "1.2.0",
      "_view_name": "LayoutView",
      "align_content": null,
      "align_items": null,
      "align_self": null,
      "border": null,
      "bottom": null,
      "display": null,
      "flex": null,
      "flex_flow": null,
      "grid_area": null,
      "grid_auto_columns": null,
      "grid_auto_flow": null,
      "grid_auto_rows": null,
      "grid_column": null,
      "grid_gap": null,
      "grid_row": null,
      "grid_template_areas": null,
      "grid_template_columns": null,
      "grid_template_rows": null,
      "height": null,
      "justify_content": null,
      "justify_items": null,
      "left": null,
      "margin": null,
      "max_height": null,
      "max_width": null,
      "min_height": null,
      "min_width": null,
      "object_fit": null,
      "object_position": null,
      "order": null,
      "overflow": null,
      "overflow_x": null,
      "overflow_y": null,
      "padding": null,
      "right": null,
      "top": null,
      "visibility": null,
      "width": null
     }
    },
    "4f62ca2fc1a5492e97b4f63c494816f0": {
     "model_module": "@jupyter-widgets/controls",
     "model_name": "DescriptionStyleModel",
     "state": {
      "_model_module": "@jupyter-widgets/controls",
      "_model_module_version": "1.5.0",
      "_model_name": "DescriptionStyleModel",
      "_view_count": null,
      "_view_module": "@jupyter-widgets/base",
      "_view_module_version": "1.2.0",
      "_view_name": "StyleView",
      "description_width": ""
     }
    },
    "53a3cafbfab64522bd4c85d50cd6a01c": {
     "model_module": "@jupyter-widgets/controls",
     "model_name": "VBoxModel",
     "state": {
      "_dom_classes": [
       "widget-interact"
      ],
      "_model_module": "@jupyter-widgets/controls",
      "_model_module_version": "1.5.0",
      "_model_name": "VBoxModel",
      "_view_count": null,
      "_view_module": "@jupyter-widgets/controls",
      "_view_module_version": "1.5.0",
      "_view_name": "VBoxView",
      "box_style": "",
      "children": [
       "IPY_MODEL_5987a7cdbcd64b688bed9cee7bd766fe",
       "IPY_MODEL_82a8fb0de178444aaf96a1926eb2536a"
      ],
      "layout": "IPY_MODEL_696f0a9d5045437288453d5de7428114"
     }
    },
    "54c17b8395e24eb8b48e92c8ed7a9bb8": {
     "model_module": "@jupyter-widgets/controls",
     "model_name": "VBoxModel",
     "state": {
      "_dom_classes": [
       "widget-interact"
      ],
      "_model_module": "@jupyter-widgets/controls",
      "_model_module_version": "1.5.0",
      "_model_name": "VBoxModel",
      "_view_count": null,
      "_view_module": "@jupyter-widgets/controls",
      "_view_module_version": "1.5.0",
      "_view_name": "VBoxView",
      "box_style": "",
      "children": [
       "IPY_MODEL_1ea1bf50acd4471abc91cffaf1431573",
       "IPY_MODEL_c864482bac3f49b988174297f8a2dbcb"
      ],
      "layout": "IPY_MODEL_e80dde04bff244ec9773199c8aa2a178"
     }
    },
    "5987a7cdbcd64b688bed9cee7bd766fe": {
     "model_module": "@jupyter-widgets/controls",
     "model_name": "IntTextModel",
     "state": {
      "_dom_classes": [],
      "_model_module": "@jupyter-widgets/controls",
      "_model_module_version": "1.5.0",
      "_model_name": "IntTextModel",
      "_view_count": null,
      "_view_module": "@jupyter-widgets/controls",
      "_view_module_version": "1.5.0",
      "_view_name": "IntTextView",
      "continuous_update": false,
      "description": "image_nbr",
      "description_tooltip": null,
      "disabled": false,
      "layout": "IPY_MODEL_d98b070cf99e40c3bdb6bb6efa81f263",
      "step": 1,
      "style": "IPY_MODEL_96c5f2fbea0a41ddb936f6099ee788bf",
      "value": 0
     }
    },
    "696f0a9d5045437288453d5de7428114": {
     "model_module": "@jupyter-widgets/base",
     "model_name": "LayoutModel",
     "state": {
      "_model_module": "@jupyter-widgets/base",
      "_model_module_version": "1.2.0",
      "_model_name": "LayoutModel",
      "_view_count": null,
      "_view_module": "@jupyter-widgets/base",
      "_view_module_version": "1.2.0",
      "_view_name": "LayoutView",
      "align_content": null,
      "align_items": null,
      "align_self": null,
      "border": null,
      "bottom": null,
      "display": null,
      "flex": null,
      "flex_flow": null,
      "grid_area": null,
      "grid_auto_columns": null,
      "grid_auto_flow": null,
      "grid_auto_rows": null,
      "grid_column": null,
      "grid_gap": null,
      "grid_row": null,
      "grid_template_areas": null,
      "grid_template_columns": null,
      "grid_template_rows": null,
      "height": null,
      "justify_content": null,
      "justify_items": null,
      "left": null,
      "margin": null,
      "max_height": null,
      "max_width": null,
      "min_height": null,
      "min_width": null,
      "object_fit": null,
      "object_position": null,
      "order": null,
      "overflow": null,
      "overflow_x": null,
      "overflow_y": null,
      "padding": null,
      "right": null,
      "top": null,
      "visibility": null,
      "width": null
     }
    },
    "82a8fb0de178444aaf96a1926eb2536a": {
     "model_module": "@jupyter-widgets/output",
     "model_name": "OutputModel",
     "state": {
      "_dom_classes": [],
      "_model_module": "@jupyter-widgets/output",
      "_model_module_version": "1.0.0",
      "_model_name": "OutputModel",
      "_view_count": null,
      "_view_module": "@jupyter-widgets/output",
      "_view_module_version": "1.0.0",
      "_view_name": "OutputView",
      "layout": "IPY_MODEL_08120d6cb7234e28b7c3b9756e6d0cf3",
      "msg_id": "",
      "outputs": [
       {
        "image/png": "iVBORw0KGgoAAAANSUhEUgAABwgAAAIrCAYAAAD7k825AAAABHNCSVQICAgIfAhkiAAAAAlwSFlzAAALEgAACxIB0t1+/AAAADh0RVh0U29mdHdhcmUAbWF0cGxvdGxpYiB2ZXJzaW9uMy4yLjIsIGh0dHA6Ly9tYXRwbG90bGliLm9yZy+WH4yJAAAgAElEQVR4nOzdeZDl630X5s97lj69zHrnriNd6erqxmgxxqKIjTAEmXIKDIYQQhlip4izQFykDFVJBUIKKoSENa5KQhECIRBTxCyBuFhCCJgyjheQwMiWjEGyZEu69+ouc2e5M9PT21ne/NHdMz09vZzTfbr7nD7PU3Wl6XN+y9s93f37zvt5l1JrDQAAAAAAADAbGmfdAAAAAAAAAOD0CAgBAAAAAABghggIAQAAAAAAYIYICAEAAAAAAGCGCAgBAAAAAABghggIAQAAAAAAYIYICAEAAM6xUsr3lVL+u60//4pSyuePeJ0/U0r5A+NtHQAA41RKeamUUksprTO495dLKd9y2vcFjkZACAAAMAG2OlRWSynLpZS3t4K9C+O8R631R2utv2CItnxXKeXHdp373bXW/3ac7QEAmEallN9aSvlUKeVBKeXG1p9/ZymlnHXbDrJVZ27/N9hRey6XUr5zxGs9HIQGTCcBIQAAwOT49bXWC0l+cZJfkuT373zzLEaCAwDwSCnlP0/yPyX575M8n+S5JN+d5JuSzO1zTvPUGniAWuuF7f+SvJqt2nPrv+/fPk7NCbNBQAgAADBhaq1fTfL3knzt1hJR/2kp5QtJvpAkpZRvK6X8VCnl3VLKPy6lfN32uaWUj5VSPl1KuV9K+WtJ5ne894lSyus7Pn6xlPIDpZR3Sim3Sil/qpTy4SR/JsnHt0aTv7t17GOjxEspv72U8sVSyu1Syt8upVzf8V4tpXx3KeULW238nyd9RD0AwGFKKZeT/KEkv7PW+jdqrffrpp+stX5nrXV967jvK6X8L6WU/6eU8iDJN5dSPlxK+eGt2uhnSim/Ycd1f7iU8h/v+Pix1RwOqq1KKc1SyveWUm6WUn4+ya87wuf1iVLK66WU31tKeSvJ/77XihJb7XillPI7knxnkt+zVS/+nR2HfX0p5bOllLullL9WSpkPMJEEhAAAABOmlPJikl+b5Ce3XvqNSb4xyUdKKR9L8heS/CdJriX5s0n+dimlU0qZS/I3k/ylJE8l+etJ/p197tFM8n8n+UqSl5K8J8lfrbX+q2yOgv8nW6PJr+xx7q9K8keTfHuSF7au8Vd3HfZtSf71JF+3ddyvHvkLAQAwWT6epJPkbw1x7Hck+cNJLib5VJK/k+QfJHk2yfck+f5SyqFLv++wX23127fe+1g2V6D4zSNcc6fns1k/vj/J7zjowFrr/5rk+5P8ia168dfvePvbk/yaJB/Yaut3HbE9wAkTEAIAAEyOv7k1Y+/Hkvx/Sf7I1ut/tNZ6u9a6ms0Omz9ba/1UrbVfa/2LSdaT/NKt/9pJ/sdaa7fW+jeS/LN97vUNSa4n+S9qrQ9qrWu11h/b59jdvjPJX6i1fnprpPzvy+aMw5d2HPPHaq3v1lpfTfKPknz9kNcGAJhUTye5WWvtbb+wtZrDu1v7+f0bO479W7XWH6+1DrJZB13IZn20UWv9oWwO1Pp3R7j3frXVt2ez9nut1no7m4O4jmKQ5L+uta5v1ZxH9SdrrW9steXvRA0IE8tawgAAAJPjN9Za/+HOF7ZWj3ptx0vvT/Lvl1K+Z8drc9kM+2qSr9Za6473vrLPvV5M8pWdHVwjuJ7k09sf1FqXSym3sjkL8ctbL7+14/iVbHaKAQBMs1tJni6ltLZrqFrrL0uSrWXcd07I2Vm/XU/y2lZYuO0r2aydhrVfbXV91732q/0O806tde2I5+60u53X9zsQOFtmEAIAAEy+nYHfa0n+cK31yo7/FmutfyXJm0nes2u/v/ftc83XkryvlLLXwNG6x2s7vZHNoDJJUkpZyuZyp1897BMBAJhi/ySbKzf8W0Mcu7OeeiPJi6WUnf3x78uj2ulBksUd7z0/QpvezObAr53XPYrd9d9jbSql7G7TYfUiMOEEhAAAANPlzyX57lLKN5ZNS6WUX1dKuZjNTqtekt9VSmmXUn5TNpcS3cs/zWaH0h/busZ8KeWbtt57O8l7t/Y03MtfSfIflFK+vpTSyeZSqJ+qtX55TJ8jAMDEqbW+m+S/SfKnSym/uZRysZTSKKV8fZKlA079VDZn0/2erRrtE0l+fR7t4fxTSX5TKWWxlPJKkv9ohGb9n9ms/d5bSrma5L8c8dPaz2eSfHSr3ptP8gd3vf92kpfHdC/gDAgIAQAApkit9SeS/PYkfyrJnSRfTPJdW+9tJPlNWx/fTvJbkvzAPtfpZ7Nj6pUkryZ5fev4JPmhJD+T5K1Sys09zv2HSf5Akv8rmyHjB5P81jF8egAAE63W+ieS/GdJfk82Q7K3k/zZJL83yT/e55yNbNZd35rkZpI/neS31Vo/t3XI/5BkY+tafzHJ94/QpD+X5O9nM9D7dPap/UZVa/3ZJH8oyT9M8oVs7pG9059P8pGt/Rf/5jjuCZyu8vjWFAAAAAAAAMB5ZgYhAAAAAAAAzBABIQAAAAAAAMwQASEAAAAAAADMEAEhAAAAAAAAzBABIQAAAAAAAMyQ1lk3AACAU1HPugEAwNQoZ90ADqW2AwCGtWdtZwYhAAAAAAAAzBABIQAAAAAAAMwQASEAAAAAAADMEAEhAAAAAAAAzBABIQAAAAAAAMwQASEAAAAAAADMEAEhAAAAAAAAzBABIQAAAAAAAMwQASEAAAAAAADMEAEhAAAAAAAAzJDWWTcAAIDJ8z3f8z35zGc+c9bNAACO4eMf/3j++B//42fdDCaA2g4Apt+4azsBIQAAT/jMZz6TH/3RHz3rZgAAx3Dx4sWzbgITQm0HANNv3LWdJUYBAAAAAABghggIAQAAAAAAYIYICAEAAAAAAGCGCAgBAAAAAABghggIAQAAAAAAYIYICAEAAAAAAGCGCAgBAAAAAABghggIAQAAAAAAYIYICAEAAAAAAGCGCAgBAAAAAABghggIAQAAAAAAYIYICAEAAAAAAGCGCAgBAAAAAABghggIAQAAAAAAYIYICAEAAAAAAGCGCAgBAAAAAABghggIYUaVUr5cSvmWE77HHyyl/B8neQ8AAAAAAGA0AkIAAAAAAACYIQJCmHGllO8qpfxYKeV7Syl3SilfKqV86473f7iU8kdLKf+0lHKvlPK3SilPbb33iVLK67uu9+VSyreUUn5Nkv8qyW8ppSyXUj5zup8ZAAAAAACwFwEhkCTfmOTzSZ5O8ieS/PlSStnx/m9L8h8meSFJL8mfPOyCtdb/N8kfSfLXaq0Xaq2/aOytBgAAAAAARiYgBJLkK7XWP1dr7Sf5i9kMAp/b8f5fqrX+i1rrgyR/IMm3l1KaZ9FQAAAAAADgeASEQJK8tf2HWuvK1h8v7Hj/tR1//kqSdjZnGwIAAAAAAFNGQAgM48Udf35fkm6Sm0keJFncfmNrVuEzO46tp9I6AAAAAABgaAJCYBj/XinlI6WUxSR/KMnf2FqO9GeTzJdSfl0ppZ3k9yfp7Djv7SQvlVL8rgEAAAAAgAmh0x4Yxl9K8n3ZXIp0PsnvSpJa690kvzPJ/5bkq9mcUfj6jvP++tb/3yqlfPq0GgsAAAAAAOyvddYNAM5GrfWlHR9+3673yq7Df67W+vv2uc737Tr/e3e8dyvJLz9GMwEAAAAAgDEzgxAAAAAAAABmiIAQAAAAAAAAZoglRoED1Vo/cdZtAAAAAAAAxscMQgAAAAAAAJghB84g/I7v+I56Wg0BAKbbX/7Lf7mcdRsAAAAAgMOZQQgAAAAAAAAzREAIAAAAAAAAM+TAJUZLsVIYAAAAAAAAnCdmEAIAAAAAAMAMERACAAAAAADADLHEKAAAAAAAAMwQMwgBAAAAAABghphBCAAAAAAAADPkwIDwMAJEAJhNtdazbgIn7OrVq3nmmWfOuhkAwDFcvnz5rJvAhFDbAcD0G3dtZwYhADAyNcL59/LLL2d5efmsmwEAHMNLL7101k1gQqjtAGD6jbu2O9YMQgAAzqerV6/mueeeO+tmAADHcOXKlbNuAhNCbQcA02/ctZ0ZhAAAAAAAADBDjj2DUIgIALPHHoQAAAAAML3MIAQARqZGOP9KKf6eAWDKeZazTW0HANNv3M/yxlivBgAAAAAAAEw0MwgBANiTWhAA4PxQ2wEAO9mDEAAYif0HZ4MaDwCmn+c523wvAMD0G/fz3AxCAGAk6oPZ4e8aAOD8UNsBADsdewYhAACzRwcTAEweKz1wVGo7AJg8J13bDR0QKhQAAGZHKUX9BwBTZvez27OcbWo7AJg+J13bjWWJUQUGAJx/RqTPFp1IAADnh9oOANitcdYNAACmgw4FAAAAADgfhlpidFwdgrPQsVhrzd27dzM/P5/5+fmzbg4ADG2YGYKz8CxneL4fAGCy7K7nPKsZhe8XAJgsJ13bHWuJUYXDIxsbG+n3+w//vL10Q6fTOeOWAcBwjvJct+zo+abWA4Dp4tnNQc7790c9y0+vJuf7qwvAWTjpZ/dQMwgT+xHupdb6sGN0ZWUl6+vrD99bW1tLt9t9GBDO0tcFgPNnvyDQ8+38sk8NAEw/z3K2nffablCSe88O3c05VqUm7bVBFu8NzuT+AMyOU51ByMHW1tZy7969JHt3nPb7/bzzzju5du1ams3maTcPAOBEnedOJgCYJlZ1YBymubbrz5f889/61JHOHean56CvTHOj5pmfW8/X/uD9I90fAHY7rdruWHsQzuKswsFgkLt37ybZDAAP+4saDAZZXl62JyEAE++gZ9p+z3KdUQAAwLTZ+a+YlcuN9DqNPZcobW8M0lkepNm1hCgA58/IexCOe1/CaQkPNzY2UmvNYDDI2traSOeur6+nlJJWq5V2u31CLQSAwx0lBDzovFKKkPCcOu/LUAHAeXLcgd2cf2q7R2o29yvszpcsP93K6tVWamOfr02tWbrZy8V3emltVCEhAKfitGq7Y+9BOEyDjtvosypgdnZ43rlzJ/1+/8jXWVtbS6/Xy9NPP60gA+DEHWfPwL3O3Xne7vc912aDv2cAgPNjmmu7vf6lUxolh83x2z6vluTW+9tZu9xMDvs6lJIHT7dSS3LpnV5a63vcpdSUMt1fUwBmkz0ID3D37t2srq4m2Vwq9Ki2O1JrrYoFAGAqjDLKXH0DAGfHag4M4zzVdoNW8s775/LZX3tpqOO3f0L67eSdl+fS6zT2Dgb3+lnaTP6ycq2V2kgu3einvb57JuFmODnpXzcApsNp1nYnsgfhKA/ESXt4drvdrKysJNlcGvQ4weBu23+xk/Y5A3A8k9gpc9izZpSlRg+aMTiJnzsAAECyGQ6uXSy5/3Qr6xebmy/u92+lQdLs1aQmg3aeWHZ09WoraZRceruXuTX/DgJg+h1pBuFRg8Fp2J+w3+8/XA50nGqtqbWm3++n2WwKCQHOkUn9nT7qfoOHLUu639KjQsLZNqnf/6dleXk5SbKwsJBms3nGrQFgFh1Uj836c5rRTcP3TDlktl7d+m/lSjNrlxpZvXJIMFhr5pYHmVsZJP3Bw2O7i41sLDVSW1szDmvN6uVmakkuv/V4SDgNXzcApsNp1nZjW2L0vDwIFxYWMj8/nzfeeGPsHZ6DwSA3btzItWvX0ul0xnptADhpwsDZNa37SZ+Ufr+fBw8epNaabrebWmsGg0GWlpbSalnBH4DxGqb+Om/PWk7W1Nd2++V8SQYl6c+V3HuudXgwOKhZeLef1kZN3VpB7OHPW61pby4wlo2lPBYSrl16FBJ2VoWEAIxmkmq7kXswdjfsoIYO80kc9ROdxofu9h6Eo6z7DgD7OaygOHBU7T6zAQ+7tpBwthy3zjtvut1uBoPBwxUndv4srK+vp9VqpZRiJiEAYzXqM3fn82kWn9fs77zUdpszCJ98fdBMbr00l/WlxtaBe39OzfVBrn9uLXP3ummtbA706nW7j21BWErSarfTajZz7/pcbr40l/ULzYch4fqFZtrdbr7+793P0lbICADDmKTa7sCA8Cg3G9cyo+P8RI9yrQsXLmR1dfVElhpdW1tLkszPz4/12gCcD8MGcGe1z+DukHCaOhM4upMc+DXptr/f7927t29tWGvNgwcP0mg0srCwcG6/FgBMlsMGfcF+prm2a9SSC3cG+eBPrKU2krtPN/P5X7GU1UuNzdmFBwSDT39pI8+8upH2es3qykoGg5qSvTtIS/ppzs3lmZ+vaa3X3Hilk9XLWyFhakpK5leTi3e2fg4n9OsFwPQ47druWGsgDTubcNwjlE66QGk0Gnnqqady8+bNEwkIHzx4kMFgkIWFhbFeG4DJNOqMu+OMJDrsOsMce1gguPN4swlnw17fS2cx6OssrK+v586dO0kO/36vteb+/fsZDAZZXFw0kxCAsRjXvtKwbepru5pcuDPIB35qLW+93M4//bcvZvVyY++ArtY012uuvtHNez63nkG3n/XV1eye8LffZ7WxsZEkufLVZO1yczMgTJJSMmiUDJo7zp2Erw0AE2+SajubpJwBxToAMOkmovPnDN2+fTuDwSCDwWDk2m1tbe1hSNhut0+ohQAAwztPtd32Z9LvlHzlY/M7ZvXtUmte/Om1PPVGL2sPVrPe26rrRuyW623tOZ2NuZR+TW1u3uvm+9r53Dct5uM/cC+N8c4vAIBTMXRAOO6ZfuNaivSox5+lWmvW19dz69atXLt2baraDsCTjrMX4DjuM8peg8OMRNprdqC9B2fTKHtPD/P+UY89Ld1u9+FS8BsbG0f6nq+1pt/vp9/vP9x/GgCGMY5ab/t4dRt7OXe1XaNk0Nw1c7DWtNYHefkn19K+20td7aY/SOpGb9Rc8KFBrSmDQdKvKYOkbk0i3FgseetrOnn1axfygc+sHfvTAeB8mYba7kgzCA8rKE5iqdHjFBpHPXdubi69Xi/r6+tHvvd++v3+ww4oHUcAk2lcewGO675H2XPwsL0Gdx6jI4mDHHUpqrOo4UZRa023202yOfNveXn54evjoM4DYKdRl5Q67Nz96jjPHw5zPmq7Xderm3sFfuCTK1m810+v20t3a4nQY6s1V9/qpXell1svbq0QUUruX2vmqx+ey8ufHX/fIQCTb9pru1NZYvSk9iY86aLkypUrmZ+fz5tvvnnk++xl+y9XRyzAZDvJjpXjFBD7XeO4YeDu9w77mNkxSgfSVO1fs+XOnTsPlxIdx/f37utM0ucKMGsmrW45SkfRXuceVAdO2ufM5DkvtV15+D9banLxnV4aNx5kdTCeum7HpTO3MsjSnX7uPd1Md6GRJNmYL3nzlbl8+Rd18oHPjimMBGBfk1bnTHttZw/CQ5xUgbO7sxUAYFqMOuJ83EvVj8v2EqDXrl3LnTt3sjGuEebZXK70/v37qbVmcXFxbNcFYDST+G/uUQeKHbZKxF4dSpPWecZkm9rabq9tB5sli535rK2vp9/vj+1Wg8Eg3bX1tG+VLD3TzLtbAWEaJXefbeYn/82l3Lr+ZDdrs5d86B+vZmHFzyTAOKjtxmuogHCUouCoy48e9t4w7w97zCjnt1qtPP3007l9+3YGg8Gxrr3bYDDInTt3cuHChXQ6nbFeG4DJMczSn6Oev9c1RhltNK6RSDqgmGbbPwftdvtElgru9Xpjrx8BANhUUvJYSliS5WvNdC+0kxPYLmhQa+bvDXL5Rj8rl5rZWNoMCfvtknefb6W1UTO39vi/jVobNf25kggIAZhAEzOD8Chrn59GYNhqtXLp0qXcuXPnWNfZz/LycjqdTubn50/k+gCcnqPuHXjYdfY7/yiB4DCbHR/2MbNhmNrsLPaXPqnRgvPz86m1jnUW4fb+ht1u90RCSAAm02F100HPg1FHlG+/P646lPPrPNZ2pZQ0B3XnC+nNJV/98Fze+8nNLs9xziKstSbdfubf7WXx3qOAMKVkYz559/lmnn798fsNBpvt9LMIML3Oc203ckA4SgOOE+AdtSg5idBw3J2iu78Btj9WLABMj+POChzlOocVBUfZ1NisQYYx6vf0uDqOxlETjTpL98KFC0ky9oBwfX09rVZLQAhwjhynk+iw84ddIeKw1z1z2Mt5q+3m1mo+8NmNfOGXzGdjsfHw9XtPt9Kan0vWxhsQJkmv10vr7kYu32hl5XLz4X1rI+l2Gqnpp7Hj+BIBIcCkm+XabmJmEI7DSX2RSil573vfmzt37uTevXtjv/6dO3eyurqaZ599duzXBgA4CcOOOD/KYLBh7zkupZQ0m800m82xX7vf72cwGOgYAphgow58Ou5S8cOuDrH72N0rPOx1joFcHNU01natfvLs6/18+JNr+cyvWty+aPrtmje/ppNnfqZ7rOvvpdaa0h3k4u1+Vm/0c+OlR7MIk5o0SrJrhXl1IMDpUtsNb6wB4agji0ZZVvS0ljnY79h2u32sTqOd1919j36/n16vp1gAmEAntWzoftc5yozCccwKhMOMa8T5uFd7GFf9dFI/P9uzCJeXl7O4uJh2u30i9wFgb8P8fh/Hs2TUmnFcNZ9AkKM6L7VdZ63mff9yIz/zy+bTm380d+/me1u5+sVGsjLS5YbS7/XSWN5I+0EjyaPart8qeXC5kQvvDh7tjLi1TaI+P4DxUNuN10TNIByl2DjNZUbHtY76fiFho9FIs9lULACckVGWAhj3dQ7bb3DU5UNHWarAvoPwSCklc3NzWVpayoMHD8Z67V6vl/X19XQ6HQEhwClT08D51hgkz7wxyNf/o7X8xLc+mkXY6yRlrpm5djsb3fHOJOwPBqndXtKryWBr1mCSfitZvtpIZ2WQuR2r1pdszS4E4NjUduM1UQHheXZQB/O1a9dy8eLFU2wNADspLmA0ww6COui1Yd8f10CtYczNzeXixYtjDwhrrfaEAjghpzWK/LB7HnSPYY+3SgRnZdpqu5pk0Ex6nc3XmjV56V928xPf+vg565dbubw8N/aAMEnKoGbh/iCXbg9y7+mtFccaJd1OsnqxkblbO9YZNYMQYGhqu9N1rIDwpDcjHud65+No6+XLl9PpdPLWW28NfY39/rywsJCnnnoqyebypQoFgLM17O/hccwS3Oucg5YuGOW9k1qz/LB2wH7G3ak0zPtHPa/ZbD6sy8ZZsO8MCGutfmYAxuikfqceZ4WJo6wQsX3cMKtHWPmBszQJtV1tJPevNvKVj8w9fG2j8+Q1bry/naW7g2S8Y7+SbAWEy4NcutnPvWuNZOtzGDSSlUuNLCwPMrc+/vsCnHdqu9Ot7U5kBuFRlvg87l/8UcPBUe47Nze373vDjLYqpWRpaSmllHQ6nSwsLAx9bwBOzigP3VFHEO11ziibFA/z3n7X01HEuAw7OGvUj4d977jnDnvdWmsajUauXLmSd999d6w/Q71eLysrK2k0Gpmfnx/bdQE4vlFHjY967qi13UHXHoY6kMNMfW3XSFYvNfLqhzaXbq/ZDObaq4N0Fx7tQ3j/WjP3nm7m0t35rK2tHXzNEQ1qTda7aay00uy10m9vtXlrFuHaYiOd9Ud7ERogBnB61HbDm6olRsc5c/AoIebO1/daJmq/QqnR2CxOms1mnnvuOUUBwIQZx+zB3dcZdmTSWYZ7e41Y2q9NcJZOq3YqpaTZbObq1au5d+9e+v3+2K7d6/WyurqaVqslIATg2ISATLNj13blyQ8bNbl0q59b721s3ySpNbevt3Pt7fmsr6+P9WdmMBhk0O2mrrfTXkv6rfpwFmFKMtix7bQ9CAE4zFnVdlMVEE6CdrudD37wg3n99dezvr7/WgE7i53r168fOPsQAHbT6cMsGXWpqpNagnSnTqeT9fX1sYWE2z/T/X4/vV4v7Xb78JMAGLvjjCjf6xqj7DdzlPcOWm5KvcikOo3armzFbg/VZOlezbsbNf257aCu5N61Rt59ppnO3Vb6vd54f2bq5lKjze4gjV4jg/bu5LJke/9BcwUAToba7ngmNiCc1CVHNx/qJdeuXcuDBw9y7969Pc+/ePFiFhcXU0rJ3Nzcw1mEw94HgJM36kN32DXGdx972HGj7jF41E2OdSJxXKPULyexrNRJrAyxn6tXr+b27dtZXV0d6byD7ltrzdraWlqtVq5evXqs6wJwsHHsnTzMNY66dPy4V5GwEgRHMa21XSnZnDa4c1WvJI0kF+8M8u5zzceOf/Oldj701fmsr6ym2+sdeO3D7GzZIDWDwSC1P0hj0Mhg3/YKCAGOS213MiY2INxtlNFHJxkObrtw4UKSZGNjI6WUbGxsJNkcbZ4kS0tLD48RBgJMpoN+Pw/zAB5HCDjM+0clEOQ0jVJjjVLDnVRdd9hxCwsLabWOXirvtQx9rTW9Xi/dbnekNgJwsHGPHN/vGkfdk0Y9xjSaytqubgaEy1ca6XUezSJcuVKy+sxcmq/tvxLYYZ64+8P6brDPz3hJSd3KMQWEAKNQ252eUw8Ihy0iTvq+o7Rhv/cvXLjwMAR86623UmvN9evXj97II7YPgMeN40E96kidYULAo7RtlBmD561IYbYM24F0mrMIj3v8XiFhu93O3Nzcw1UpABjeaY0c3+/YYTuVjrMCxO7XJ2HpKTiK06jtnjgnSbOfXLzTz53nmo/NMHztX2vlpddGv96uRj323mY910gpjd1HPjp+a7ajug/gSWq7s6/tpmYG4aR75plnPOwBAM6JUkparVba7fbDGX+jnr+t2Wym1Wql2WxmaWkply5dGmdTAQBmStnxv3u9t3i/5v6Vmt78o2MeXGyk0Wyk0WhkMNhvMdDhNEpJo9FIaTfSmG8n7UYGDX2CAEyfsQSE4wzGjrsc1LhDumGv12w2j3Vv4SLA+Bx36dD9rjXMHn+HHbffyCD7xjBtjluzHeW8cS8vf9j7V65cSavVyo0bN4a+xvafy3bHUSlZXFzM5cuX02g0Hr4GwOiG/f057D7Rhx0/zH40w9Z1w44qH9VhbfDMYVhTVduV/eLBzdfnNpIrtwa5+Z5HM/tqq6S9NJ9GaWRlZeXw9j664UP5BR0AACAASURBVMOPH64IMddOa6GT1cvNrD7XysZCyaB90NelJPHvPIDd1HZ7t/E0a7upmEF43E96HPvTnMT5CnWA0zdK4LfXucPuTTjOPQfHuaToKIWK0JKjOEogdxL11Djqv+2ZfwctH7L74+2lQ1utVhYWFtLpdB4uK9po7LP8FABDGWXp91GuMezyUnu9f1BtOeySVDDJpqK22+O19h7bDd55oZXLr/aHu86u5UQbjUZa7XbSaaa32MqDp9q5db2Zd59uPn6RWlP6SbP3+KX0AQI8SW139qYiIASASTHtD36YVuMYdX6UDq5ms5mFhYWHI833mi248+NOp/NwadILFy5kfn7+wHsCMLzDfo+PMgDqoOMPGyR1GvXgznsYtMV5dOza7oBZhElSatJar+l1Hh31pQ+385FbvbRXHl9CfvdswZ2vN5vNlGYjtdNMFju5/1w7b72vmdULewz8qjXNXrJ0b5CL79ZdV/LzC7Cb2u7snw3nKiAcZTTOMMceZ0mqkzgPgPE66mzCYQqHoxYXAkg43VHnh91rYWEhL7zwQl577bWHHUm7z2k0Gmk2N0ePX7lyJUtLS0/MFlT/ARzNUVZdGPbcYTqL9nt/2BHk41qBAqbZuGu7kqTsFw9uHd9Zq3nlp3v53C9pP3yrNktWnm7nmbULuf/u3Ud7Ee4RDJZGI7VR0lqaT7kwl3fe08o715vZmN/nvtvh4N1Brt2oaey8lhmEAA+p7SbLuQkIx/mgHUd4eNzjAThdR1n2cxoe9JM0KgmmVbPZzPvf//589atfzcbGRmqtqbU+3E9waWkpV65cSbvdfrjEKAAAZ6MkSU0+/oPr+fzHWqnNR7XZV76mlQt3+7nYvJLlu/fT7/WTXTM62p25dBbms3a5mZvPNHPzhUbWF/dZKr7WlEHS6iUX7g5y5eajcBAAJt2JB4Rn3UFy1veflDYAcLhRZxQed2TSsPeBWTbs8lNH2XNwlEFhpZQ888wzGQwG6Xa7uXPnTp566qm02+2HexVuB4YAjM9+v1fHteTU9nHj3D96mHapAZlV46jtds/42/P1kixfKbnyTj93nms+fH/QLvkX39DJe77cS+fOUhbvD9J60M/a6loWFhZSWs2sXmnmxlPN3HhPM2tL5cn7bQeKg2RuI7l8a5AL9+oBS55aYhRgm9puspybGYSTSicRAMCmg/bvO417DvP6Qcds7yfY7XYzGAyyuLiYVqt16itZAJwXx+lIOc2BXQddc5xLUcG0maTa7okQr5T8xK/s5OLd5MHlurk0aK1JKamtktdfaSe1lWtvDvLez2+kWWpKp50711t5/eVWNhb2uE+tKTVpdpP5lUEu3q3prCaNetB+iMUSo8DMUNtNn6kMCM/yoTrufQ7P4loA59l5eUAflZmJnIVx1SlHXeb9tGuudrudq1ev2o8a4JiOM4J8r+uMYz+Y/d4/Tx1BcJjzUtuVJM1+8vyrg7z5vka6O0LCrRvl1vVmbl1fSLJw8MW29hh838/189F/3st6J/n5j2x3qx7UXr83gNmhtps+UxkQHtdRlqAa5z3O4joAs2LUEUcHXWfY80+rqFC8MGuOUwedZL0nGAQ4WUet54btTBpmxPkodeDuax11wNaw91UTMq1Oqrbbd8nRbEZ3rX7ywquDvPn+RrqdXSHhYbZmDb7w6iAf+/FuXv5cP/Pryc9/TTMHB4MAbFPbjee4kzCTAeGk03kEMB7HnU13Vg9onT4AAADj0+onL3xlkLdebGwuH7r97639+uBqTWpy/dVBvukHN/K+Lw7S2PFPND13AJwHAkIAAGbCYYOwjroM1jiPB+BxRxlxflKjtS3lDhNmxDqr1U/e++VBapJ3rpcsX2pkvyVAv+6T3XzDj/Ry9daT+05t/uEI7QVAbTdhBIQjOIlOo3GdC8DkMiMQTs5pLesuGAQ4e5O4BPxR6ZCCvZ1GDVWSPPtGzdV3+nn67UE+8ule5tYf/Sw2anLxbtLunm67AGaN2u7sCQgBOPem9SENAMDRTXpHEnC22t1kcTm59k7N3PpZtwaAw6jtxq9x1g1gk5FIAJOplHLiM8jhvDqrn4uz/Hkc9ncGAEcz7t+z+13L73J40nmq7UoeXyW07PHf9r39PgA4OWq7s2UGIQAAAMAJMuIdxqfZT555c5Bf9QNrex9QkrLPJoG7O4hb3Zr2xuhteO+XB7l24/ATS5ILy6NfH4DJdl5qOwEhADPjvDy8YVZN+qj109oPEeA8mMWaTC0KjztqzVOSzHWTuXef/Hl6dM29f9ZGueVB7WtvJO2N/X+eHz+3jHRfgGk0izXOeajtBIQAAJx7J73MyHGvIxQEZs1x94ge9vzT2ov6PHQQwTTZd4bgYSfWOpYtJA67gsoOmDVqu+lkD0IAADgj9rUBZt3278EjzyQ6g9+hfm8D+1HbAbNObTddBIQAALCPcYwwH/d5AIyX38cwO9R2AOef38fDExACAAAAAADADBEQAgAAAGfOaG8AgPNDbTf5BIQAAHCK7E0DMF7DLhnody9wEvx+ARgvtd3pERACAAAAE0FHDwDA+aG2m2wCQgA4QwolAAAAAOC0CQgBAAAAAABghggIAQAAAAAAYIYICAEAAAAAAGCGCAgBAAAAAABghggIAQAAAAAAYIYICAEAAAAAAGCGCAgBAAAAdimlpJRy1s0AAGAM1HZPEhACAAAAAADADBEQAgAAAAAAwAwREAIAAAAAAMAMERACAAAAAADADBEQAgAAAAAAwAwREAIAAAAAAMAMERACAAAAAADADBEQAgAAAAAAwAwREAIAAAAAAMAMERACAAAAAADADBEQAgAAAAAAwAwREAIAAAAAAMAMERACAAAAAADADBEQAgAAAAAAwAwREAIAAAAAAMAMERACAAAAAADADBEQAgAAAAAAwAwREAIAAAAAAMAMERACAAAAAADADBEQAgAAAAAAwAwREAIAAAAAAMAMERACAAAAAADADBEQAgAAAAAAwAwREAIAAAAAAMAMERACAAAAAADADBEQAgAAAAAAwAwREAIAAAAAAMAMERACAAAAAADADBEQAgAAAAAAwAwREAIAAAAAAMAMERACAAAAAADADBEQAgAAAAAAwAwREAIAAAAAAMAMERACAAAAAADADBEQAgAAAAAAwAwREAIAAAAAAMAMERACAAAAAADADBEQAgAAAAAAwAwREAIAAAAAAMAMERACAAAAAADADBEQAgAAAAAAwAwREAIAAAAAAMAMERACAAAAAADADBEQAgAAAAAAwAwREAIAAAAAAMAMERACAAAAAADADBEQAgAAAAAAwAwREAIAAAAAAMAMERACAAAAAADADBEQAgAAAAAAwAwREAIAAAAAAMAMERACAAAAAADADBEQAgAAAAAAwAwREAIAAAAAAMAMERACAAAAAADADBEQAgAAAAAAwAwREAIAAAAAAMAMERACAAAAAADADBEQAgAAAAAAwAwREAIAAAAAAMAMERACAAAAAADADBEQAgAAAAAAwAwREAIAAAAAAMAMERACAAAAAADADBEQAgAAAAAAwAwREAIAAAAAAMAMERACAAAAAADADBEQAgAAAAAAwAwREAIAAAAAAMAMERACAAAAAADADBEQAgAAAAAAwAwREAIAAAAAAMAMERACAAAAAADADBEQAgAAAAAAwAwREAIAAAAAAMAMERACAAAAAADADBEQAgAAAAAAwAwREAIAAAAAAMAMERACAAAAAADADBEQAgAAAAAAwAwREAIAAAAAAMAMERACAAAAAADADBEQAgAAAAAAwAwREAIAAAAAAMAMERACAAAAAADADBEQAgAAAAAAwAwREAIAAAAAAMAMERACAAAAAADADBEQAgAAAAAAwAwREAIAAAAAAMAMERACAAAAAADADBEQAgAAAAAAwAwREAIAAAAAAMAMERACAAAAAADADBEQAgAAAAAAwAwREAIAAAAAAMAMaZ11AwAAAAAAAE5ezaVL98/s7v1+Mw8eLI183tLSgzSb/aGP39hoZ329k1rNEWN/AkIAAAAAAGAm/Ibf8INnct/BoJGbN5/KP/gHv3Lkc3/5L/9nefrpOyllMNTxn//8B/PZz34o6+vzI9+L2SEgBAAAgCFcunTvzO591NHmi4sP0mrtP9p8fX0uGxtzRpcDADOj2axJkvn51bzwws0k9dTu/fLLr+YjH/lCkqTWRj75yY/lU5/62KHnNRo1jcYgjcZwbS2lppRjNZUZICAEAACAIXzbt/3Qmdy31pLbty/n7//9T4x87jd+40/l2Wdvpdnce7T5T//0L8jnP/9yNjY6x2wlAMB0uHz5Xi5eXM7S0lpKOb1wMEk6nW4WF9cefvxt3/ZD+YZv+Kl8+cvvPfC897//9czPr+0b+t2/v5S1tXmDvhiJgBAAAACG0Gr1HnbKtNsbmZvr5uRHnJd0u63cvXvhSGe3Wv202719A8JGY7hlqgAApl/Nxz/+6Tz33M2HM/HOYpbdznuW0ssLL7yTZ5+9deA5jcbgwLYuLa3mnXeu5sGDJSEhQxMQAgAAwAg6nfVcv/52Wq3+iXcq1Zr0+41sbLQzP7868vnNZj+nuWwWAMDkqJmfX8vLL7+WJLl8+X5+9a/+kYdLjE6CUjaXA2009l8SfhidTjdXr95Pv9/K6urCmFrHeScgBDhjvV4vX/nKVzIYDFLryRco169fz4ULRxuBDgAw6+bmNsPBTqeb5ORHndeaNJuDfPCDr+V3/+7vG/n8Tmc9d+5cyvLyhQwGRpMDALOjlJrFxbV83df9qyTJ4uJq5uc3njiu3y9ZWZnPSXfL1Vqyvt7OzZtP5YUXbubq1ftju3Yp27MMJyf8ZPIJCAHOyP3799Pv99Pv97OyspJ+v38qAeG7776bjY0ni6GjWFhYyMKCUUkAwHlTc+nS/XzzN/+Tx15tt7u5fv3GqYWDO+8xN9fL3Ny9kc+vNWm3bydJlpeXMhg0x9k8AICJVspgq3arabe7T7y/sjKXtbVOBoNGut1eaq0nFhTWmiwvN/KlL13M7dtX8/zzNx7bj/Agly49eGJliE6n93CpVDgKASHAGblx40bW19dPbebgtnfeeWds13r++ecFhADAudRsDnLlyuOjui9cWHk46nxnONjrZewdSaUkrTH8i33zOv0888ztJIMsL18UEgIAZLN+e/Cgk253kKRmcMJbMw8GSa9Xc/fuWpaXG7lxYz6NxtxQ5370o90sLXUfq0EvXChZXOxO1JKpTBcBIQAAAByoppRBnnrq3SSPh4M3b86l3z+ZqYSNRs3SUi+Li8frrSolabf7uXr1ftbXF7K+LiAEAEg2lxf90pcuZmWlmaSe6AzCJOl2Gw9XFNtc4Gu4OvJnf/ZCWq3NmrDTGeTFFx9kYeEUlrPgXBMQAgAAwCGuXr2XubneY69tbJSsrze3OpHG3UGz2TO1uSdOzepqM1/60sWRrvCxj93OhQu9lPJoJqF9aQAAHnf7difLy62cRkB41Jrx3Xc72a4PFxZ6uX59Jcn4V7FgtggIAQAA4BDz8+tJHp89+IUvXMqNG/MnvhxVKZujzW/enB/pvEuXNvKRj9zN3JyeIwCA/QwGJYNBSVJOISA8mu32JZsDyCaxjUwfASEAAACMqNstef31pdy5M7fVYXOyak0Gg8ZI59y/395qmx4kAADgcQJCAAAAGFGjUdNo1PT7jVMJCAEAAMZptOGHAIxVtR4AAMBUqPXxELDZTN7//uU0Guo5AABg+ggIAc6YkBAAYPLdu3fhideeemr9sT0JAQAApoWAEAAAAA5hGVEAgOnWbA4OeNcAfmaPgBAAAAAOcfHigydeu3+/HYtBAABMuppms59Ll5bPuiEwUQSEAAAAcIh2u/fYx/1+8vrrS2YWAgBMgYWFtScCQnUcs05ACAAAAPuqKaVmbq772Kvr683cudMxgxAAYAp0Ohtp7EpD1tbmYmlRZlnrrBsAAAAAk+zCheV0Ot2UHYPMu90iHAQAmEK1JrWWrKzMZzMgVNQxmwSEAKes2+3m7bffTrfbPfxgAADO3LPP3nns41qTft+SVAAA06rbbWYwSGqtjw36MgCMWSIgBDhlg8EgDx48yGAweOz1qgIBAJhIzWb/sY83NkrW1lpJzCIEAJhWg0E/g4FijtllD0IAAAAYwf37c9k11gsAgCln4BezxgxCgAlg9iAAwGTp90vu319MKZt71Ozcm2Z9vZm1tWb6/f3PBwAAmGQCQoAzIBAEAJhsKysL+eQnf3GSml/4Cz+XZvPRlMHXXlvKnTudrK/7JzUAADCd/GsGAAAAHlPS683ljTeeT1K3ZhA+cv/+XG7f7jwxsxAAeFyteeI5eppKqSlnd3uAiSYgBAAAAABg7NbWFrK8fPFM7t1oDHLhwv10Outncn+ASScgBDhDtVbLjQIAAADn0htvvJif/MmPj3zeKF0l+80QXFh4kI997JO5fv31ke8Pk6zWkl6vkcGgkeTRihaDQUm3287a2lx6vdaZzt5lOggIAQCAiXTWY2gsR8VBzvr7EwDOq+1n7MbGXLrd9r7HNRqDzM+vJbGMKMc3TbXd+norn/700/noR9fyoQ+9k1ZrI0ly+/bV/PAP/9J88YsfOOMWMi0EhAAAwETq9dpnsiTV/PxqOp21lDJFvQQAAFNuO6CptWR9fT5vvvliam0eeM7ly+/k6tXbaTQGQkKAEQkIAQCAiXTz5rP58R//llO/74c//FN55ZV/lU5n49TvDQAwi2rdDAbv3buSW7eeH/q8u3efSVK2QsK+kBBgBAJCAABg6g2zJJAOIwCAybGzfjs8HNxd7D0q7O7efTpJcvXq7TSb/fE2EuAcExACAABTaXcouLKylI2NzhPHLSw8SKeznlqFhAAAZ21nDTcYNHLv3uU8eHAp6+uLex2dJCllsOP8Rh4FhpvF3f37l3Pp0l2zCAFGICBk5g0GjwqMUkqKKoJTUqdp92MAOGGjPhYf7VGTbGx0srx86eHo8d1K6eeFF17N/PyakJCxmPYybtrbD8D02n4G9fvNrK/P586dZ7K+vrDXkUmSVmsjS0v3kgxSa02tNc1mM8vLl9PrzT08ejBoZ21tPq1WN0lV7zEStRGzSkDIzHv99dezsrKSUkpeeeWVNJsHb34MAMD4bWx08vnPfzQ/+7NfO/Q5g0HJrVvP5f79KwceV2sjb775vrzwwuuZn185blNhamxstFLrox7S5eWF/N2/+815/fXrZ9gqAGbd6upC3nnnenq99j5H1LTba5mfX0kpm0uGDgaDh4P8G41GOp21xwLCJHnnnRfSanWzsLB6ks0HODcEhMyk+/fv5+7du0mS1dXVhwXGW2+9latXr2Zxca8lDQAAOHkHD/euNel2W7lx4z07RpsfNkS8bIWE783166+m01kzqpwZ5wcAgNPx4otfztNPv51kc9bgG2+8mB/5kW/dCgf3eh4N8sILr+b5519LUnPnzp0njiglWVq6lNde+4W5d++prSVHk6TkIx/5TD7wgS+k1eqm0Rhkfl5YCLAfASEzZ3V1NcvLy7l3794T792/fz9LS0sCQgCACbQZDrbz9tvvycbGfPbuVNpcH6jRWM9g0NlxzGZIuLY2n7m59ZRiHSEAgJPWbm+k223ni1/8UD772W/IG2+8b+ud3XVczeLi/TzzzFu5fv3VdLvruXfvXtp7TDIsJVlYaOeVV34mn/nMx3fMJCz51Kc+kaeeupX3ve/n0mz2T/AzYxrU/7+9O2mSJD3vxP64x5p7Ze3VS3U3G2iQBEWCoDgUxBGGNjOSmQ46zGF00FkfQR9BZ530CaiLzGSyMZOZNIcRaaaRRA5pJAGBABpbgewGuqu6qjIr98xY3F2HzKzKzMol1ozI8N/PrAFUhG/V8PB4wv/+Pm+RxPb2Qvz7f/9P4lvf+lHcv/8mcN7ba8ZPf3o3Op1utFo6ylFOAkJK4eRcb1988UW02+1LlyuKwlyEjJX5BwGgd3meRLvdiN3dxdjcPH5K/PxwsFLZjXp9M5Lk8IbA/v6jOBkSvnp1N+bm9qJebxtFyCWKqNXa8ejRi4iItwLllZVWFEUR6+v16HYvOh+nQRHHoTkAXLeNjdX45S8/iZ/97Hfi888/Pmp7/XYwWKu14utf/1EsL6/Hzs52bG29aSd6Ub22u7sb9XoejcZedLvViDgcRbizsxy/+tWHce/es1haentwAOXTbjfi88/fi48++vWp17vdaqytLUSr1T5xn07dRLkICCmFFy9exMbGRkREdLvdC5criiKeP38eOzs78d57713X4VEy54WDAkMAOF+eJ7G7uxgvXz6MPD9+svfknaIiIrK4d+97MT//7Ogm0smHw/5ZdDrLr9fJ82o8f/5O3L//pZCQSy0s7Md3v/tXkSQR1erpEQgffrgTrVYaf/d3d2J7O71gC5NWxG/91mbU6/mkDwSAEvrii/fjr/7qn8WTJ78VeZ7EcYB3LEnyWFraiK997UeRpnuRZe1otYrodNo93SPJsm4URSe+8Y0fxA9/+E+OuktERCTxwx9+Oz788OexuLil1iu9wxOgKA7/OevwteOT5Gbdm2s0GlGtdpzjDEVAyMxqtVqvQ8Hd3d1Lg8GTsizreVkoswcPHsTS0tKkDwOAGZbn6VE4+OAoHDwdDKZpO+7c+UE0m2vRbG7EeT/qHz36f+OLL74bWbZwtH4S7XYzNjbuxOPHv4x6vfXWOodzFN6sGwSMXpJEVCqHI/DOng9JUkSaTvc58sknm3H3bivSE/djkyTRKQWAscnzJFqtZjx//jC+973vxC9+8dsn5gd8I0myWF7eiI8//nHUanvRah3E3t5eX/sqiog8L6LR2Itmczc6nfrrfe3srMQPfvAfx8LCTty9+2IkfzeYNouL8/HgwdOo1zuTPhRuMAEhM6nT6cTe3l6sra0NtH5RFNFut6NWq/kBDRe4e/du1Ov1qxcEgAFkWRq7u0uxtnb/3HCwWt2Od975i6N2ovmFT842Gpvx7rv/d/zqV/8iiqIWxyHhzs5K/MEf/EXcu/fVW+ukaRZpatQVN9vCQjfStDj12fjrv/69WF9fmdxBATDTWq1G/OhH34pf/OK3Y23t/jnh4GE70fv3v4z797+IWm0vdnd3LpwK6Or9tSLLsnjnnX+IJ08WotN5M4rw17/+KLa3vycgpA/T/fDXWe+++zyWl3en/qE1ptu09kKBoTx9+jSePn060LpFUcT+/n784z/+o5GEjF1RFNqLAsAZWZbGzs5yrK/fOycczGJ+/lk8evQX0WhsRJpeHA5GHI4CazQ2Y3X1p5EkJ0O/JL7//T+Kvb35qFY7Uau9+adSuXybcBM9e3YnfvrTj2N3d37ShwLAzEoiyyrR7dYiz8+2FM2i2dyN1dXnsbr6D7G//zQ2NzcGDgePFUURKyuvYmXlVaTpm/t429u34smT34yNjdWhtg/TqFbL4t699ajXT7cYLYqIjz76PL7znb+NDz/8PKpVowu5nICQmbG1tRVPnjyJJ0+e9N2W4Dx5ngtuAAAmoNOpx97eYmRZNd6Eg3nUaq/ivff+PB4+/MtoNjd6bgOaJEXMzz+LiG6cfDL4009/L169uvvWDSyYRS9e3I79/WacDtwBYPySJI9a7SBqtd3Isla023uR51nk+fAdG/I8j/39nVhefhGVyps5g4sijU8//d14/vzR0PuAaVOp5FGvd0/9Hjo4qEVExIMHa/Ebv/F53L376tRnAs6jxSg3WpZlsbm5GRERe3t70Wq9PYfMoIqiiO3t7VhYWIhms3n1CgAAjERRJEeh3ZsgI0myaDQ2o1bbjWq1/5qv2VyPO3d+HGtrv3PUajSi263Hr371Udy9+1UsLu6M6vBhKgnCAZicIiLyKIossiyLbrcb1RHdlS6KIlqtVty69Sy2tu7G+vr9yPPDje/tLcb3vvdH8eWX70W1+iYouXfvWXz44c+j0Rhu9CJM1umHJff3G9HtVqNSOQzer+q0AhECQm64brf7upXoqOcKLIoiXr58GUVRCAgBACYqi0rlINI0i0HnBknTPJaWPo9Xr34rsqz2+vXvf/+PYnV1Lb7+9R9HozG6h80AADjtTaeu0XbsKooiKpVu3L37LLa3b0WrdXzLO40vvvgw9vfnYmlp+/Voq0bjwIMzzJyiSEMzPPrlSgiX0GYUAGDykuRwBOGwKpX9WFj4dSTJm/lp9vYWY2PjdnQ6tUvWBABgUEWRREQlqtVqpOl4hjTt7OxEvf48FhY2T81F2OnUo9Wai06nFnleOfonCS23Oc39X8pJQMiNVqvV4vHjx1Gv18ey/aIoYmtrK549eyYoZOScUwDQu1E0i0iSIm7f/nGk6cl2Ukl0OvXI88rwO6BE1HEA0LsksqwW3W49xhXMZVkWlUonHj78VTQaB6f2vbu7FPv78zGCKQ8BZooWo9xoaZrG0tJSvHjxIjqdzlj20W63R96+FACA3hXF8ZPnw0mSiFptN+r1ndjfb8bx85JPnnwjPv7401hc3Io0FfxwteXlTmxuJrG83I4sS2JvrxrTPhJhZWUrvvGNJ7G7O3/q9a++uhtra6uRZW4PADAaSZK/bud59EpkWSU6nWbMzaVRrdYiYvSt3bvdTlQqW0cPgxVx/N3c6dRjf38hGo1W1OvmHQQ45hcAM2GcAV5RFKdajQoLAQCuWxpZVh/JnBqH7Uq7cXIE2Pr6vfj+9/+TqNdbcf/+MyEhbzl77jUaRdy61Ynf/d1Xsb9fjb//+9VYX2+MJMgel6Wl3fj448+j1TrdTjfL0tjYWIls+C6+ABAREdVqJ+bmdqPdbkSn0zh6NY0sq0SS1KJer0V7DDldp9OJJGlHvb4X+/vLkedv5iI8bC2qmR7ASQJCZsLjx49jY2Mjvvrqq7Fsv91uxy9/+ct47733otlsjmUfAABlliR5uKcRtAAAIABJREFUzM/vxurqi6jVlmN7+1YcnOgOVRTVKIpqJMnwvaHOhj1FUYnPPvs4Pvjg57G6uhaNhifLOe3Vq5W4c2cjIo5D5ohGI49Gox153o5aLY/9/epYWpcVRcT+fjU+/XQlWq3Bf8JXq1k0mwdRrZ5OAmu104E5AAyrUsljbm7vaO6/xuvX87wSrdZ85HnjkrUHl+d5JEkW1Wo7KpXuUSAoFCy3IqrVbty+vRnz8/un3knTPBYXW9HpdGNnJz16WGp6H/aCcRAQMhMqlUqk6Xi/8LvdrjnjAADGpFrtxoMHX8bS0mbs7CxHmubx4x9/++jdJIqiEt3ufKRpd+h9Hd6UOv3j//33n8SdO8+jUjGMirdtbKxEmhaxuroZEafnxEzTiIcPD9PscfxcKIqITieNhYVuvHpVjyxLY3u7Gl9+OR+X3cSam8tGMncnAAyiWu1Eo7Efe3sLkWWHo9eLIo12uxnd7mLMzc3F/v7+FVvpX5ZlkefdSJLD70G38pif349vfetH8c47pweWNJvtePx4I/I8j5/8ZCmyzJzklI+AkJlRqVSi0WhEqzX6HuYRh61G2+12VKvVqNVqV68AlxA2A8BpaVrE0tJ2LC1tx+3ba9Ht1uL583fi5cuHR0sk0e3ORau1GnNza31vvyiSODi4HQcHt6PTWYiTwcqdO1/EN7/5d/HgwdO3RlfB4blXifX1lYjI4tat3Yg4PGfPBnDjCOSORyt+9NFOPHhQiTxPYn+/Erdvt2J9/fwRGM1mFnfvHpyZ/wkArk+SFDE3txutVjO2t1ePX41OpxFbW/djeXl95AFhrVaLPK9HUdQizytT3fqb65EkRdRqnXj06HksLe2eeq/RaMeDB7tRFBE7O3OnupfkeRJbWwuRZWm0Wq3I9GJnRgkImRnLy8uxsLAQP/vZz8YWvjx79ixWVlbi4cOHVy8MAMBAarVO3L//NN577x9OBYRZ1oxXr34zkuTTaDbXe95eUURsb78f29sfRKt1K/K8HicDwg8+eBL37n0V1WontBXifEl0u7VYX1993SotTfNYXt6NRqN9LSP1kiRiYeHw5tTiYjdWVtqxsVE/d9lmM4ulpW6cbLLiJikA1ylJDmu6ZnM/dnaWoygOR2dlWS02N+/EyspqVKtb0e0O3x2iWj28xV2pLEa7fTfa7ZWjUYu++zhfkkRUq3ksLh5OLfDJJ5uR52/OlzxPYm0ti/X1W7G9XUS3m/c8GrUokiiK5NT2zl8uot0+PHcPPwd5VKu99auv1d5+UA0GISCEHlSr1fjggw8iSZKxtzJl9tXr9fj4449PvXZeqP306dPY2Ni4rsMCgKmysLATH3748/jyy8fx/Pm7EXE4D+Hu7juRJHncvfv/Ra22d+V2Dp8Ifj/W13872u2VODsPzdzcTlSreXz11Xuxvn4/IiJWV9dieXkjKpUxTCjHjdbt1uPVq+NQrohOp/bWfDYnbW8vxvr6SnQ6vXcgSZIi5uf34513nkeaZrGwsB+VSnFmmYhGo4gHD3rrnnJwkMbu7tzRXEwAcD2SJKJeb8X8/G7s7i4fvxrtdjPW1x/F48fPY29vb6jRWZVKJZrNudjauh2vXt2P3d3V2Nt7E0jCZRqN7Oi/d956b2VlP1ZX96LVKqIoev9dcBwOXvVwVp4n8ezZndjaWoydnd1I01a8//7bx3GeWq2IWs1vFYYnIGSmJEkSd+7cia2trWi320Nvb3V1NdI0jUqlEvV6PRKPZjACaZpGo3H1hNyrq6tRr5//VPgobW9vj6XvPwAMo15vx+PH/xgHB38Zf/u3fxwvXjyKiDch4fz8l7Gy8tmF62fZ4XJZNhebmx9Gu30rzj5FXq/vx61b67G5uRo7O0uvX//kkx/FwsJOVCrD15PMsiS2thZjd3fuwiU+++zd+MlPvhbb2ws9b7VSyePBgxfxx3/8N1GpZNHpVGNu7vBcrNU6Uav1dxO13a7Gq1eLsb09H3meetocgGt1GBBux/7+fOT54a3oLKvEzs5qHBzcjTT99cABYbVajUajEQcH9+Ply49ia+t25PnbwWCaZlGttqNSGX60IjdXq1WPbjfteZReo9GJhw/7n9qgV3kecetWHq9etWNnpx2VSis++GCr5/WbTfNNMzwBITMlTdO4f/9+HBwcDB0QVqvVuHv3rvkGmZhbt27FrVu3xr6fL7/8ciQtPQBg1Obm9uKTT34UnU49/uzP/qs4DvjyvBI7O+/HwsKzqFbfjKAqiohudy7a7ZU4OFiNjY2vR5bNx9lg8Pgm0crKejQa+9Ht1qPbffNQTrdb67mFEGWXRJZd/LO61WrE9vZCbG0tX7jMWZVKFouLu9Ht1qLbrcbLl7VoNltHowZbsbi4F/V6p6dt5XkaGxtLsbW1HEWReuARgGuXpkU0Gq1oNvdib+/NKMJWqxlfffVevPfeV1EURV/3JRqNRuR5Gu32nWi1VuPly0extXXrnFGDRVQq3Zib242Fhe2oVt37KLPd3bl49Wo5VlZ2LpynOU2LSNP8WoK3NI24f3897t1bj263EklyuO9eJcl45r+mXASEcI5msxkfffTRpA8DrsWjR4/i0aNHkz4MADjX3Nx+vP/+P8T8/PaJm0qV2Nt7FJubH8f8/FeRpocPhmVZI3Z33429vYfRaq3G2WAwSfK4d+9pdDr1qNcPYn5+N9JUEsg0SyLPK7G3Nx8Rhze29vebMTd30NPaWVaJra2FKIo0zMMEwKRUq52Yn9+NVmvuaG7Awwe+dndvRZquRr3+6sqAME3TSNM0sqwWaXo3dndvxdraw9jaWj33e65abUe93opGYz8WFrajXr+eOYOZVkkURRpra7ei261eGMRVKlk0m+2Ynz+4MEQc+kiSt//cb4eIs4rizdyH0A8BITPp/v37MT8/H8+fP+95nSRJ4v333389z6CnaykL5zoA065Wa8edO8/j4OBNa6qiqMba2n8Ue3sPolrdjYiITmcpDg7uX7CVIubmDuc1fPXqzuvtwM2SxP7+XOzvX9zWFACmTaWSR7O5F83mXuzurhy9mkS73Yivvno37t/fijRNI8/PD22SJIlmsxlJMh9ra49ifX01Xr58cDRi8OQ9jTxu334Z3W4tqtV2LC5uRbXaFQxyJImiqMTGxsqlSzUarbh9e7Ov0XwntdvV2Nxcev2A16kjSA67mdy5sxEPHoymfWlRRLRatTg4qJtvmr75VcxMajabPbcmmJ+fj2q1GkmSxPz8fKSpCykAwHRJIk2LWFzcip2d5RPhXhr7+w+vWLeIWq0VlUo3VlfX4uXLB24SAQBcs2q1G3Nze7G/v3BiLsJaPH/+bty791k0Gt3Y398/d91msxlpOh+vXr0fv/71147mGTxb0BVx+/aL+P3f/6t4/vxh7O0tnbcpuFKr1YinTy966PBq6+sr8YMf/GZ89tn7575fqXTjm9/8WfzTf/o3p7qZVCpZ3Lq12ff+iiKJjY3l2NlZOHcOTriMgJCZliRJFJdMIJMkSdy7dy8WFhau8agAAOjXYcD3MiIidnZWevjxezjnTK3Wilu31qNeb3mCHABgQtI0j7m53Zifb8bOzurr14uiEtvbD2J1tXMqIEySJGq1WrTbjeh278T29q347LPzw8E07Ua12o6vfe3TmJvbu66/Egwky6rx93//m/H06f2o1d4McFlc3Ik/+ZP/0Pf28jyNbrd61GoX+iMgZGYtLCzEJ598Er/4xS8iy97u41ypVOJrX/uaEYMAADdAkhw+Vbu6+jKKImJ3d/nCH8FJkket1orFxa1YXNyKSiUXDNK3LEvj1avlqxe8xO7uXN9PchdFRKdTHXrfvTo4aJivBoCxO5xnrROLi9uxu7vyuo7rdqvx+ecfR5ruR5a1Tixbi2r1VqyvP4qvvnrnaO7Cs/NLZ1GtdmNhYTvm5nbixYuHsbb24Lr/atC3okjjxYu7J1+JlZW5aLWaEzsmyklAyMw6nkvwrPv370etVjPXIADADXMcEt658yLSNI9ut3bucvV6K1ZX116vA4PY2VmIP//z/3SobXQ61Wi3632tk+dpvHx5e+h996rdrkW369YAANejWu1Es7kb+/vHLUCT6HQa8eTJ78Xq6jsnlkxie/tWtNtvz7tbqx0GiY3GfqyuvoxaraPm4wJJZFkltrYWr22Pu7vzA9VWeZ6O9DgPDhqR5z4YXM6vAGbe3NzcqRGEy8vLUa/39yMdAIDpcBgS5nH37otJHwozLYk8r8TOzvXdTDq57263Fjs75wfgAHBTJUlEvd6O1dW12N9fiIjjB/uTyPNarK29c9nqERFRrbbjG9/4QeztLb7eJlykKCK2txfj3/27P762feZ5Jdrt/uu43d35kR5np1OLTkc9yeUEhMy0JEni8ePHkz4MAAAAACi9444QjcZBtFpzcbZt6EUqlU7U6+34jd/4SfzLf/m/xb/9t//6wm4S8EYSWVaNnZ2lqxedqOOH06b9OJk1AkIAAAAAAK5FtdqJ27dfxIsXDyPPq5Gm+aXLp2kWH3300/jmN78XH37486hWs0uXB6A3AkIAAGCqJUkR1Wr72vZXqWTaVQEAjEmaFtFs7sejR7+OJMnj/v2nly5///7T+J3f+Z76DGDEBIQAAMBUW17eiH/+z//3a9tfvd6KarVzbfsDACibNC1ifn43Hj9+Et/+9l9N+nAASklACAAATLVKJYvl5a1JHwYAAFdI0yLStLcWoGmaXdle9PJ10wHXLSKiGGhdgFkiIAQAAAAAYCiNxkF885t/F9/4xt/3uEYRtdpgXRv+5E/+j4gYrOdotdqJRqM10LoAs0RACAAAAADAUA7bhu5HxP7Y97W8vD32fQDMusHGYQMAAAAAAAA3koAQAAAAAAAASkRACAAAAAAAACUiIAQAAAAAAIASERACAAAAAABAiQgIAQAAAAAAoEQEhAAAAAAAAFAiAkIAAAAAAAAoEQEhAAAAAAAAlIiAEAAAAAAAAEpEQAgAAAAAAAAlIiAEAAAAAACAEhEQAgAAAAAAQIkICAEAAAAAAKBEBIQAAAAAAABQIgJCAAAAAAAAKBEBIQAAAAAAAJSIgBAAAAAAAABKREAIAAAAAAAAJSIgBAAAAAAAgBIREAIAAAAAAECJCAgBAAAAAACgRASEAAAAAAAAUCICQgAAAAAAACgRASEAAAAAAACUiIAQAAAAAAAASkRACAAAAAAAACUiIAQAAAAAAIASERACAAAAAABAiQgIAQAAAAAAoEQEhAAAAAAAAFAiAkIAAAAAAAAoEQEhAAAAAAAAlIiAEAAAAAAAAEpEQAgAAAAAAAAlIiAEAAAAAACAEhEQAgAAAAAAQIkICAEAAAAAAKBEBIQAAAAAAABQIgJCAAAAAAAAKBEBIQAAAAAAAJSIgBAAAAAAAABKREAIAAAAAAAAJSIgBAAAAAAAgBIREAIAAAAAAECJCAgBAAAAAACgRASEAAAAAAAAUCICQgAAAAAAACgRASEAAAAAAACUiIAQAAAAAAAASkRACAAAAAAAACUiIAQAAAAAAIASERACAAAAAABAiQgIAQAAAAAAoEQEhAAAAAAAAFAiAkIAAAAAAAAoEQEhAAAAAAAAlIiAEAAAAAAAAEpEQAgAAAAAAAAlIiAEAAAAAACAEhEQAgAAAAAAQIkICAEAAAAAAKBEBIQAAAAAAABQIgJCAAAAAAAAKBEBIQAAAAAAAJSIgBAAAAAAAABKREAIAAAAAAAAJSIgBAAAAAAAgBIREAIAAAAAAECJCAgBAAAAAACgRASEAAAAAAAAUCICQgAAAAAAACgRASEAAAAAAACUiIAQAAAAAAAASkRACAAAAAAAACUiIAQAAAAAAIASERACAAAAAABAiQgIAQAAAAAAoEQEhAAAAAAAAFAiAkIAAAAAAAAoEQEhAAAAAAAAlIiAEAAAAAAAAEpEQAgAAAAAAAAlIiAEAAAAAACAEhEQAgAAAAAAQIkICAEAAAAAAKBEBIQAAAAAAABQIgJCAAAAAAAAKBEBIQAAAAAAAJSIgBAAAAAAAABKREAIAAAAAAAAJSIgBAAAAAAAgBIREAIAAAAAAECJCAgBAAAAAACgRASEAAAAAAAAUCICQgAAAAAAACgRASEAAAAAAACUiIAQAAAAAAAASkRACAAAAAAAACUiIAQAAAAAAIASERACAAAAAABAiQgIAQAAAAAAoEQEhAAAAAAAAFAi1UkfAAAAAMC0KYpi0ocAAMCIqO3eZgQhAAAAAAAAlIiAEAAAAAAAAEpEQAgAAAAAAAAlIiAEAAAAAACAEhEQAgAAAAAAQIkICAEAAAAAAKBEBIQAAADAVCiKYtKHAADAiKjtppuAEAAmSKEEAAAAAFw3ASEAAFyjoig8HAAwQq6pwCSp7QBGyzX1+ggIAQAAgJnnZhMAwOxQ2w1PQAgAAADMNDeQAABmh9puNASEAAAwhEF/mPhBA3DapK6LrsfASWo7gNFQ200/ASEAAAAAAACUiIAQAAAuMO4nDz3ZCJRdURSv/xl0/evm2g03l9oOYLzUdjdLddIHAAAAk3L8QyBJkqG3M+g2Tv4YGfY4AG6KWbsRM2t/H7ip1HYAkzFrtdCs/X0uIiAEoDTK8uUOvG3Ymzy9rDvMPk5uA4Cr9Xq9nJbr6rQcB8wKtR3AbFHbTYYWowAAjMWoC+ab8INhmFYqAPRmlN8HrtnQO7UdAOOgtpscAeGUcOICTCc/CAEAAACAWSMgBIARECLCZIzqs3fVdvp9WMA1AWD0+rkWD3sddh2HyVDbAZSH2m7yzEE4YsNMhjyqiZQBOG3SRcCk9w8cGkWt1c9cNCc/++o7gMEMUkeN60bTKGs69SEMT20HcPOo7aaLgBAAgKnUzw2b89aNOP/mzUXb7XV/gxyXG0oAvRv0Bsuobh4NO6po3McPN5XaDqCc1HbTS0DYh2EKmWncD8Csu6ntB25CAQHj0EsNdN4yo6yden0SfZibQmc/4+o+oMyuq53gsNuZpvpsmo4FLqO2AygftV3/Jnks5iA8Y1pO4OP+u9N0ogLcBLN8/ZzFvxOcNS3n+bQcBwDATTYtNdW0HAcATBMjCAEAGMog7Zuuqy3TMC2n+vl7RQz+93DDCqB/o271NKr5cEbZlgomRW2ntgO4bmq7yShlQDiunufDLNvLdgC4PsP2J5+UaToWGIXz6qleX+tl2722m+qn9jtJiymA4U163pdR11fqNcpMbQeA2m56jD0gHMd8ev1scxrm85uGYwCgN6MMBm9ygQCz5LJarNen3QedW6bf64CaESiLcdZJo6rnBn1vEOpG6J3aDmD6qO3Gu71xmZkRhNc9gXG/+xMSAky3fr+4RzHXLHC+QdpanXwt4u06rpebRf20xrrqM6wlFcD4jLsOG/T9UbagOrme7wZuOrUdAJdR201OOukDGKVp+hcLwM3h+wM4y3UBAGB2qO0A4G0zM4KwX6OYH3CQUYTHjCYEmLxRTVg8qm0Ps951bQ+uMs75Ys5b5rLXLzqOXo/xos/PoHPWAHB9xtEdot+2VKN86hwmRW13+boAXA+13XjciIBw2PacV/UmH+S9k8tE9B/4DdrrHIDhDPPFPapwcFRFzTgDThiVs/XUsC2m+rmRdPxexOU3k04a1Q0itR3A+FxXq/dRtqMaxfGM8xigV2o7AEZNbTf6Y+jV1AWE/Tz1028RMejx9FNMjKonucIDYHij/PIc1bZu0k2caTwmpsd11FyXzUMTEW/dnDrv9fPe73e5XtYbZDsAjMe4Hwjr92nzfl7XTYJJUdtdzmcJYHLUduPb3kzNQQgAAAAAAABcbiQjCPsZPXd22VHMBdiLYXqVD/L363X5XrYDwPUbdfvOQa/r/fQ3993BJPXz1Hk/c8sMUsP12plh0CfKfdYAbp5JPXk+bN027qfQ4SJqOwCmmdpuNKauxehFLmtD0GsP80H2cd7+ztvnVcufpH0owPQYd0Fxndu5ru1SXv0+NHXZA2GX1VX91H1nt3XR9nrhhhFA+YzyIa5et+lhL6aF2g6AWaO268+NCQgBAJhN/T4IdtIo55q5CcU7AOM36htLo7qpdPLP0/b0OZyktgNgmqjtLla6gHBUowR7bW/Qy7pXMeIQoHfj/gLtZ/vjaFkwDD+QGdRlbaPOPjl+1Z8jrr6Bc9HT6OetO203jNRtANfjuuua624/r25jnNR2vVPbAVwPtd1kTG1AOGyv86taG1z03nnLDdNOtJf9DLttAEZnFNfcYYuCfguOUT0J5fuGQQza2h0AgOmjtgOA8hhLQNhPsHZynauWv+rJpMsmKe5lAuNBJjnuJ8QEYHb0e13vdflRhYO+d5gWFz3INehDWoM8lDXKz0Ov9SoAk3Ud1+NJdZbo988wSmo7ACZBbTceUzuCcBCecgIAGL/L2k2ddwPostdO6rXFVD9t4PvlJhHA7BvntXwUD4X1uy0YltqOm6CST/6eb54W4YyB6aO2G9y1BIQXFQ6DjhgcZLTgoCMFR1VICC4BbobraDHaz7LD9DcfdNlxHgfl0W8L+LPv97tcP8Z5EwqAm2/U3wWjqtlG2Woe+qW2Y9IerlUmuv8iIp7fyqJTdU7BTaO2u9hQAeGoR+xdFu6Nco7Bfp5YGtXcggoSgNkwzqCt12VGEdb5XqJfvbSOuqgmu84bRqOYOxoAejHM98l1t5+Hs9R23DT/5X+Yi5HchS4ORyOmF5w2RURkaURxZoEsifhfv7sTrxadbzCryljbjXQEYb+BYT/FxlWjBs9b5+R7x4Z5qmjcfc8BuLkmWUSMIzD0/QYAML3UakD5FJGOoM1oo53E3a00VvYqkZwTOXbTIl4sd2NtuYgiPb1/115gXCZ1fTEHIQAA57rqIaxeuzj0+sDWKDo3+NEOwDTp93tp0G4THvaiF2o7bqokkqhmSbzzshq1bPB7v5U8opYlUSku3kY1T+LeVjUi6cbL5fzkQUSEcxLKbtZqu74Dwn5CuMsmOT75WkRvIwYHmUew1wmRzzPMugAw7lGFg7Qi9V1Gry47f45rpF5avg/b7r2X9aaJh9UArsdN+E64zDTOWc1sU9sNRm03AUenReVENjfXjnj8vBYLreTcUX+jluYRi3vp6YCwuBnnLNxUN/3zdVNru6kZQTjMPIPnvX/RcucZZl0A6Ne4gsNRvdfvnyHi8oe+zhpV7TWNN2x8PgDKbVTfA9N044hyUtsd8nm6fkkkcXsrjf/6/1l6HRbe3k5HHg4Wcc653MP2nRNQLrNe2/UUEF41/99lowTP+/OxUQaCvf5Luu55BKexuAHgatdd9A+6v2ktMJgtF9VzV9VVg9ws6nc+a5gEUxsAwxrkO2yYug9OUtsx7YqieB3gJUUSd7cqby9zTsDXjyyN2K/lcVDLI80jmp00Fjqn93N2H0VhHkLgfDe1tpuaEYSzys0DAIDeqZ0Yl1H9uGq327G7uxtLS0tRq9VGsk2AYblhzbRS29GvsyHcvc006tnp0YNFFLHdyKNIBr/2ddOITvUoiCyKqJ85T7uViPWF7PWf8ySiO8T+APpxXbXdtQSE/cwzeHad89Y7+/55rqNtaD9zMQIwW67r2j7qyY9H2Wq0l/0xOwaZH7qfFlRXrQfD2tzcjE6nM5LzK01TT5ADY9Xr9cV1iEGp7ZhWr4PAo9Nmrp2eer+IIraaeexWukMFhBERkR/uJy3OfBaSiPXFbvzP/9nW2+s4nYEBTGttN1BAeNEkxhf9+eR6g8wlOMhkx6P6F3kd+wBgtoz7+2GUEx/3uz2AmyrLssiy7OoFzxj0ZigAAP079RBWEVHJT7/fSSMO6kX8bHUvtirtAXdy+o/NohIf7SzE0ss3t8qruXoPmH1ajAIA0JN+5os+b5mLloNxa7Vakef5yOaFOL5x5XwGrpuHvxgltR1TqTjK74qIeieJhXZ6qr1oq5pHUeSxW+nEXjW/cDOnN3n5eZrnEZ3Km2XSImJ1pxKPn1fis3vdQf4WAD2ZdG031oBwkBGD/YwWHMW/mKue/lXoADBq4/puGdXIQq1EiTj95O5ldZhuC9wEGxsbI23ZLCAEpolrEb1Q23FjFBFRHM4N+OHL2qlw8FiW5ZHnR/MHnnfKDnCqnlwliSQWD9L4b//P1fjv/9XzOGj0vz2AQV3n923PAWGvhcKw/ctHNXeg+QEBmAXDfk+Nose5wJDLXDanNEyDXoK8UY0sBICbTm3HNKlmp8/FLIrYq+cjnwewVSni+VIn3t3qxq39w9vlSUTMt9OoZUkcmHgQmFGXBoRXhYL9BoLDzDd41XqDbAcAZsG4bmxftMzZ133nzr5BO0Bcxo0nrlOv17NhtwcwjFFeW4635XrFedR23BRJcfq82mxmUSRxNMow3goKr2olepEiKWJ7Lo+fPmrFH/3yOCBMjv4bYDA3obYzByEAAOe66GGxUTzQ5YYl1yHLstjb2xv5+ZbnebRarYiIqNVqI902wGV8fzIMtR03QnF0Pp1zShVJRF7kcRgFFgMHgm9ttyiik3WjXVTOfc/5DYzLpK8vfQeEZ0cN9jJisJ+2obM4OtBTVAA3z037rrnIqOYl7HdbzJZ+5oi+ah24TscB4agdB4Rpmka16plLYHro9EAv1HZMtaM5CM9/q4iiyEe/y6KILMuOwse333P+A5My7tpupL9m+30SadAWo71sZ5r4EimvPM8jyzJPlgMjNarvlXHNT8hsOPlDeFRzRMN1u44bOj4HANwEajtujKMRhBeejUWMre/neR8BASEwy3oKCPsZNdjL++ctd1Y/oZ+LNNPq4OAgdnZ24t69e5M+FKCkxjE/oe9dAAAAxsUvToDroR8OnLG9vR0HBwcj2dbxU0ZnQ3YAuEkGDYV99wHAaHlQi1FQ2wHAdJh0bddzQNhL+9B+Woaa3JhpddwWdFBnz900TZ3PwFQa5fyEzJ7LWukk087RAAAHQklEQVT0enPIecOkjfMcPPkgGMC0Ob42uUZxTG3HjfF6DsLJn2/Hh+LcByZtXLVd3yMILwsEzzs4fc25SbIsizzPhzo/L5o41DkP3CSjmJ+Q2eX/d26SNE0jz/OxbFtACMAs8F3GVCkiWpU8frXajm9+MReVE6fnTqMbO2k3IorI0us5bwWEwCzTYhSOFEURa2trfX/p9zJXlxajANxEfghz06VpGktLS7G5uTm2fficANPMNYqTnA/cFDuNLP6vr2/Hf/7j5ahlb+6n7TSL+NVKN1rtVrSqo3sALC0iFtuVeHezfur1epbEd3+6EK16EXkS8Zcf7cRuczwPngH04lpHEF7UVrTX908uA9Ou1zZRg5zTPgfALHAtKxf/fzMLkiSJSqUy6cMAgIlT23GTZGnE2mL3rSaj72/U48vlduzVBp8a6DxJkUQjS2K5dbpuTPMkPlprRLdSRJZE/M37OyPdL8Ck9TSC8GwR0Utr0V4ZVcU0GUdA6BwHpsk4bgy42TC7rpprGsrO9Q+Am0Rtx03z5a12fLzWfP3n5YNK3NupxtpCRDHqU7iIqJzZaBIRtSyJNJLIkiJ8aoBZM9AIwl5/CPdSbPhRzbQ4nptmHOdknueRpunItwswLr6fOcs5Aefz2QDgJvL9xbQrIuLffOtV/Hd/9uj1a0kk0ei+ub9Wy5JIRnAqV4okqvlF97GLKI7/03yEwIwxByFExMHBQWxsbIxl20VRxKtXr2JpaSnq9frVKwDAFOhlVD2U2fHnw+cEmGauURxT23ET/fDhXnx+qxXvb9QjOWf83kdb81EZwZSASSTRzM5vS18cpoOH/zt8joDJutY5CHvZqfkHmQXjPld7nd8Q4KZwPQNuinFer1wLAQDGJ08ini924v2NNw/cP9ipxe91lqNIinh3uxnpiHqNJpFEdeR9SwGm20AtRs9bBriazwsAAAAADObOXi1u7R3e0k6O/hmV80YpAsyyoUcQXsWkx9wEgjuA01wXefnyZXzxxReTPgwYWlEUsbu7O9LrWpIkkaZp1Gq1qNVqI9suwKi99957kz4EpoTajpvqV516/EEsnHqtcg1BXhFFdIos9lsHkacR3SSPZ8+exYtme+z7BrjIqGs7cxACAPCWJ0+exA9+8INJHwaMRLfbHfk2j0NCD0QC0+zBgweTPgSmhNqOm+p/2nsRH0Q1fj8eXtsIvyKKOIhufF5sxebOVhRxGBB++ulP4svKzrUcA8B5Rl3b9dRi9Kx+fgQbgUDZHX8GzEEIzCrXttm0sbERL1++nPRhAABD2NzcnPQhMCXUdtxU/yZeRjWy+G/idyM9896341FU33p1eEVEbEUrfhmvotvJIyKiE1mst9fjZWyNfH8AvRp1bTfQCEI3Apk1SZJEpVKJLMvGuh+fHQAAAADo3f8SP46/jaeRnhlB+D/EfxELUR/5/oooohVZZOE+HjDbBhpBCLOmWq3GrVu3Yn19fWznvRGEAAAAANC/X8art17bjnbENbUdBZhF5iCEI8I7AAAAALgZfh7rMRe1a9lXFnm0Y7ydxwCuW88jCPuZdxB4mwASAAAAAEbjf4y/fqvt6LgUEbEe+9eyL4Dr0vMIQuEGDO748+NzBAAAAADDexl7kz4EgBstnfQBwLQYd3gnHAQAAAAAAKZBzy1GYdYVRSEkBAAAAAAAZp4RhAAAAAAAAFAiAkIAAAAAAAAokUtbjP7pn/5pcl0HAgAAAAAAAIyfEYQAAAAAAABQIgJCAAAAAAAAKBEBIQAAAAAAAJSIgBAAAAAAAABKREAIAAAAAAAAJSIgBAAAAAAAgBIREAIAAAAAAECJCAgBAAAAAACgRASEAAAAAAAAUCICQgAAAAAAACgRASEAAAAAAACUiIAQAAAAAAAASkRACAAAAAAAACUiIAQAAAAAAIASERACAAAAAABAiQgIAQAAAAAAoEQEhAAAAAAAAFAiAkIAAAAAAAAoEQEhAAAAAAAAlIiAEAAAAAAAAEpEQAgAAAAAAAAlIiAEAAAAAACAEhEQAgAAAAAAQIkICAEAAAAAAKBEBIQAAAAAAABQIgJCAAAAAAAAKBEBIQAAAAAAAJSIgBAAAAAAAABKREAIAAAAAAAAJVKd9AEAADB9vvOd78TS0tKkDwMAGMIf/uEfTvoQmBJqOwC4+UZd2yVFUYx0gwAATCVFHwDQq2TSB8CV1HYAQK/Ore20GAUAAAAAAIASERACAAAAAABAiQgIAQAAAAAAoEQEhAAAAAAAAFAiAkIAAAAAAAAoEQEhAAAAAAAAlIiAEAAAAAAAAEpEQAgAAAAAAAAlIiAEAAAAAACAEhEQAgAAAAAAQIkICAEAAAAAAKBEBIQAAAAAAABQItVJHwAAANcimfQBAAAwMmo7AGAoRhACAAAAAABAiQgIAQAAAAAAoEQEhAAAAAAAAFAiAkIAAAAAAAAoEQEhAAAAAAAAlIiAEAAAAAAAAErk/wcrdtEV49A9HgAAAABJRU5ErkJggg==\n",
        "metadata": {
         "needs_background": "light",
         "tags": []
        },
        "output_type": "display_data",
        "text/plain": "<Figure size 2304x1152 with 3 Axes>"
       }
      ]
     }
    },
    "8543f2e3a70c48bdaf9a1d767ce93124": {
     "model_module": "@jupyter-widgets/controls",
     "model_name": "VBoxModel",
     "state": {
      "_dom_classes": [
       "widget-interact"
      ],
      "_model_module": "@jupyter-widgets/controls",
      "_model_module_version": "1.5.0",
      "_model_name": "VBoxModel",
      "_view_count": null,
      "_view_module": "@jupyter-widgets/controls",
      "_view_module_version": "1.5.0",
      "_view_name": "VBoxView",
      "box_style": "",
      "children": [
       "IPY_MODEL_296485069a9b4784b911267ece5edbe6",
       "IPY_MODEL_0a545333da2d419889badbbf1bbe50ff"
      ],
      "layout": "IPY_MODEL_8c30b16ad04544f18c4d4f81aa8e7649"
     }
    },
    "8c30b16ad04544f18c4d4f81aa8e7649": {
     "model_module": "@jupyter-widgets/base",
     "model_name": "LayoutModel",
     "state": {
      "_model_module": "@jupyter-widgets/base",
      "_model_module_version": "1.2.0",
      "_model_name": "LayoutModel",
      "_view_count": null,
      "_view_module": "@jupyter-widgets/base",
      "_view_module_version": "1.2.0",
      "_view_name": "LayoutView",
      "align_content": null,
      "align_items": null,
      "align_self": null,
      "border": null,
      "bottom": null,
      "display": null,
      "flex": null,
      "flex_flow": null,
      "grid_area": null,
      "grid_auto_columns": null,
      "grid_auto_flow": null,
      "grid_auto_rows": null,
      "grid_column": null,
      "grid_gap": null,
      "grid_row": null,
      "grid_template_areas": null,
      "grid_template_columns": null,
      "grid_template_rows": null,
      "height": null,
      "justify_content": null,
      "justify_items": null,
      "left": null,
      "margin": null,
      "max_height": null,
      "max_width": null,
      "min_height": null,
      "min_width": null,
      "object_fit": null,
      "object_position": null,
      "order": null,
      "overflow": null,
      "overflow_x": null,
      "overflow_y": null,
      "padding": null,
      "right": null,
      "top": null,
      "visibility": null,
      "width": null
     }
    },
    "96c5f2fbea0a41ddb936f6099ee788bf": {
     "model_module": "@jupyter-widgets/controls",
     "model_name": "DescriptionStyleModel",
     "state": {
      "_model_module": "@jupyter-widgets/controls",
      "_model_module_version": "1.5.0",
      "_model_name": "DescriptionStyleModel",
      "_view_count": null,
      "_view_module": "@jupyter-widgets/base",
      "_view_module_version": "1.2.0",
      "_view_name": "StyleView",
      "description_width": ""
     }
    },
    "a0ae7e74f6274eaaabb5eb2a52f3f9e2": {
     "model_module": "@jupyter-widgets/base",
     "model_name": "LayoutModel",
     "state": {
      "_model_module": "@jupyter-widgets/base",
      "_model_module_version": "1.2.0",
      "_model_name": "LayoutModel",
      "_view_count": null,
      "_view_module": "@jupyter-widgets/base",
      "_view_module_version": "1.2.0",
      "_view_name": "LayoutView",
      "align_content": null,
      "align_items": null,
      "align_self": null,
      "border": null,
      "bottom": null,
      "display": null,
      "flex": null,
      "flex_flow": null,
      "grid_area": null,
      "grid_auto_columns": null,
      "grid_auto_flow": null,
      "grid_auto_rows": null,
      "grid_column": null,
      "grid_gap": null,
      "grid_row": null,
      "grid_template_areas": null,
      "grid_template_columns": null,
      "grid_template_rows": null,
      "height": null,
      "justify_content": null,
      "justify_items": null,
      "left": null,
      "margin": null,
      "max_height": null,
      "max_width": null,
      "min_height": null,
      "min_width": null,
      "object_fit": null,
      "object_position": null,
      "order": null,
      "overflow": null,
      "overflow_x": null,
      "overflow_y": null,
      "padding": null,
      "right": null,
      "top": null,
      "visibility": null,
      "width": null
     }
    },
    "a58571a0c57d4f52b8d4e9ac4a96978a": {
     "model_module": "@jupyter-widgets/base",
     "model_name": "LayoutModel",
     "state": {
      "_model_module": "@jupyter-widgets/base",
      "_model_module_version": "1.2.0",
      "_model_name": "LayoutModel",
      "_view_count": null,
      "_view_module": "@jupyter-widgets/base",
      "_view_module_version": "1.2.0",
      "_view_name": "LayoutView",
      "align_content": null,
      "align_items": null,
      "align_self": null,
      "border": null,
      "bottom": null,
      "display": null,
      "flex": null,
      "flex_flow": null,
      "grid_area": null,
      "grid_auto_columns": null,
      "grid_auto_flow": null,
      "grid_auto_rows": null,
      "grid_column": null,
      "grid_gap": null,
      "grid_row": null,
      "grid_template_areas": null,
      "grid_template_columns": null,
      "grid_template_rows": null,
      "height": null,
      "justify_content": null,
      "justify_items": null,
      "left": null,
      "margin": null,
      "max_height": null,
      "max_width": null,
      "min_height": null,
      "min_width": null,
      "object_fit": null,
      "object_position": null,
      "order": null,
      "overflow": null,
      "overflow_x": null,
      "overflow_y": null,
      "padding": null,
      "right": null,
      "top": null,
      "visibility": null,
      "width": null
     }
    },
    "a590d3aeacfe4e83a92b6063c0823c02": {
     "model_module": "@jupyter-widgets/base",
     "model_name": "LayoutModel",
     "state": {
      "_model_module": "@jupyter-widgets/base",
      "_model_module_version": "1.2.0",
      "_model_name": "LayoutModel",
      "_view_count": null,
      "_view_module": "@jupyter-widgets/base",
      "_view_module_version": "1.2.0",
      "_view_name": "LayoutView",
      "align_content": null,
      "align_items": null,
      "align_self": null,
      "border": null,
      "bottom": null,
      "display": null,
      "flex": null,
      "flex_flow": null,
      "grid_area": null,
      "grid_auto_columns": null,
      "grid_auto_flow": null,
      "grid_auto_rows": null,
      "grid_column": null,
      "grid_gap": null,
      "grid_row": null,
      "grid_template_areas": null,
      "grid_template_columns": null,
      "grid_template_rows": null,
      "height": null,
      "justify_content": null,
      "justify_items": null,
      "left": null,
      "margin": null,
      "max_height": null,
      "max_width": null,
      "min_height": null,
      "min_width": null,
      "object_fit": null,
      "object_position": null,
      "order": null,
      "overflow": null,
      "overflow_x": null,
      "overflow_y": null,
      "padding": null,
      "right": null,
      "top": null,
      "visibility": null,
      "width": null
     }
    },
    "bbfa22cefc1b40f69126f69a0ce48eae": {
     "model_module": "@jupyter-widgets/controls",
     "model_name": "DescriptionStyleModel",
     "state": {
      "_model_module": "@jupyter-widgets/controls",
      "_model_module_version": "1.5.0",
      "_model_name": "DescriptionStyleModel",
      "_view_count": null,
      "_view_module": "@jupyter-widgets/base",
      "_view_module_version": "1.2.0",
      "_view_name": "StyleView",
      "description_width": ""
     }
    },
    "c864482bac3f49b988174297f8a2dbcb": {
     "model_module": "@jupyter-widgets/output",
     "model_name": "OutputModel",
     "state": {
      "_dom_classes": [],
      "_model_module": "@jupyter-widgets/output",
      "_model_module_version": "1.0.0",
      "_model_name": "OutputModel",
      "_view_count": null,
      "_view_module": "@jupyter-widgets/output",
      "_view_module_version": "1.0.0",
      "_view_name": "OutputView",
      "layout": "IPY_MODEL_1522b04fa0754a8fac2c50aa7954d93a",
      "msg_id": "",
      "outputs": [
       {
        "image/png": "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\n",
        "metadata": {
         "needs_background": "light",
         "tags": []
        },
        "output_type": "display_data",
        "text/plain": "<Figure size 2304x1152 with 3 Axes>"
       }
      ]
     }
    },
    "d98b070cf99e40c3bdb6bb6efa81f263": {
     "model_module": "@jupyter-widgets/base",
     "model_name": "LayoutModel",
     "state": {
      "_model_module": "@jupyter-widgets/base",
      "_model_module_version": "1.2.0",
      "_model_name": "LayoutModel",
      "_view_count": null,
      "_view_module": "@jupyter-widgets/base",
      "_view_module_version": "1.2.0",
      "_view_name": "LayoutView",
      "align_content": null,
      "align_items": null,
      "align_self": null,
      "border": null,
      "bottom": null,
      "display": null,
      "flex": null,
      "flex_flow": null,
      "grid_area": null,
      "grid_auto_columns": null,
      "grid_auto_flow": null,
      "grid_auto_rows": null,
      "grid_column": null,
      "grid_gap": null,
      "grid_row": null,
      "grid_template_areas": null,
      "grid_template_columns": null,
      "grid_template_rows": null,
      "height": null,
      "justify_content": null,
      "justify_items": null,
      "left": null,
      "margin": null,
      "max_height": null,
      "max_width": null,
      "min_height": null,
      "min_width": null,
      "object_fit": null,
      "object_position": null,
      "order": null,
      "overflow": null,
      "overflow_x": null,
      "overflow_y": null,
      "padding": null,
      "right": null,
      "top": null,
      "visibility": null,
      "width": null
     }
    },
    "e80dde04bff244ec9773199c8aa2a178": {
     "model_module": "@jupyter-widgets/base",
     "model_name": "LayoutModel",
     "state": {
      "_model_module": "@jupyter-widgets/base",
      "_model_module_version": "1.2.0",
      "_model_name": "LayoutModel",
      "_view_count": null,
      "_view_module": "@jupyter-widgets/base",
      "_view_module_version": "1.2.0",
      "_view_name": "LayoutView",
      "align_content": null,
      "align_items": null,
      "align_self": null,
      "border": null,
      "bottom": null,
      "display": null,
      "flex": null,
      "flex_flow": null,
      "grid_area": null,
      "grid_auto_columns": null,
      "grid_auto_flow": null,
      "grid_auto_rows": null,
      "grid_column": null,
      "grid_gap": null,
      "grid_row": null,
      "grid_template_areas": null,
      "grid_template_columns": null,
      "grid_template_rows": null,
      "height": null,
      "justify_content": null,
      "justify_items": null,
      "left": null,
      "margin": null,
      "max_height": null,
      "max_width": null,
      "min_height": null,
      "min_width": null,
      "object_fit": null,
      "object_position": null,
      "order": null,
      "overflow": null,
      "overflow_x": null,
      "overflow_y": null,
      "padding": null,
      "right": null,
      "top": null,
      "visibility": null,
      "width": null
     }
    },
    "eaf1df520d31448096bcb39490a361af": {
     "model_module": "@jupyter-widgets/base",
     "model_name": "LayoutModel",
     "state": {
      "_model_module": "@jupyter-widgets/base",
      "_model_module_version": "1.2.0",
      "_model_name": "LayoutModel",
      "_view_count": null,
      "_view_module": "@jupyter-widgets/base",
      "_view_module_version": "1.2.0",
      "_view_name": "LayoutView",
      "align_content": null,
      "align_items": null,
      "align_self": null,
      "border": null,
      "bottom": null,
      "display": null,
      "flex": null,
      "flex_flow": null,
      "grid_area": null,
      "grid_auto_columns": null,
      "grid_auto_flow": null,
      "grid_auto_rows": null,
      "grid_column": null,
      "grid_gap": null,
      "grid_row": null,
      "grid_template_areas": null,
      "grid_template_columns": null,
      "grid_template_rows": null,
      "height": null,
      "justify_content": null,
      "justify_items": null,
      "left": null,
      "margin": null,
      "max_height": null,
      "max_width": null,
      "min_height": null,
      "min_width": null,
      "object_fit": null,
      "object_position": null,
      "order": null,
      "overflow": null,
      "overflow_x": null,
      "overflow_y": null,
      "padding": null,
      "right": null,
      "top": null,
      "visibility": null,
      "width": null
     }
    },
    "f7eaa373e4f04c1f8598a4e6aa86f52b": {
     "model_module": "@jupyter-widgets/controls",
     "model_name": "VBoxModel",
     "state": {
      "_dom_classes": [
       "widget-interact"
      ],
      "_model_module": "@jupyter-widgets/controls",
      "_model_module_version": "1.5.0",
      "_model_name": "VBoxModel",
      "_view_count": null,
      "_view_module": "@jupyter-widgets/controls",
      "_view_module_version": "1.5.0",
      "_view_name": "VBoxView",
      "box_style": "",
      "children": [
       "IPY_MODEL_1920c1b6e32b4fe7858cea40668cc732",
       "IPY_MODEL_fa1ba1c1952b4ac9890cd8813414f8b3"
      ],
      "layout": "IPY_MODEL_a0ae7e74f6274eaaabb5eb2a52f3f9e2"
     }
    },
    "fa1ba1c1952b4ac9890cd8813414f8b3": {
     "model_module": "@jupyter-widgets/output",
     "model_name": "OutputModel",
     "state": {
      "_dom_classes": [],
      "_model_module": "@jupyter-widgets/output",
      "_model_module_version": "1.0.0",
      "_model_name": "OutputModel",
      "_view_count": null,
      "_view_module": "@jupyter-widgets/output",
      "_view_module_version": "1.0.0",
      "_view_name": "OutputView",
      "layout": "IPY_MODEL_a58571a0c57d4f52b8d4e9ac4a96978a",
      "msg_id": "",
      "outputs": [
       {
        "image/png": "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\n",
        "metadata": {
         "needs_background": "light",
         "tags": []
        },
        "output_type": "display_data",
        "text/plain": "<Figure size 1152x576 with 3 Axes>"
       }
      ]
     }
    }
   }
  }
 },
 "nbformat": 4,
 "nbformat_minor": 1
}
